{
    "nbformat_minor": 1, 
    "cells": [
        {
            "source": "# First thing first\nLet's load the data:", 
            "cell_type": "markdown", 
            "metadata": {
                "collapsed": true
            }
        }, 
        {
            "execution_count": 1, 
            "cell_type": "code", 
            "metadata": {}, 
            "outputs": [
                {
                    "execution_count": 1, 
                    "metadata": {}, 
                    "data": {
                        "text/html": "<div>\n<style scoped>\n    .dataframe tbody tr th:only-of-type {\n        vertical-align: middle;\n    }\n\n    .dataframe tbody tr th {\n        vertical-align: top;\n    }\n\n    .dataframe thead th {\n        text-align: right;\n    }\n</style>\n<table border=\"1\" class=\"dataframe\">\n  <thead>\n    <tr style=\"text-align: right;\">\n      <th></th>\n      <th>PassengerId</th>\n      <th>Survived</th>\n      <th>Pclass</th>\n      <th>Name</th>\n      <th>Sex</th>\n      <th>Age</th>\n      <th>SibSp</th>\n      <th>Parch</th>\n      <th>Ticket</th>\n      <th>Fare</th>\n      <th>Cabin</th>\n      <th>Embarked</th>\n    </tr>\n  </thead>\n  <tbody>\n    <tr>\n      <th>0</th>\n      <td>1</td>\n      <td>0</td>\n      <td>3</td>\n      <td>Braund, Mr. Owen Harris</td>\n      <td>male</td>\n      <td>22.0</td>\n      <td>1</td>\n      <td>0</td>\n      <td>A/5 21171</td>\n      <td>7.2500</td>\n      <td>NaN</td>\n      <td>S</td>\n    </tr>\n    <tr>\n      <th>1</th>\n      <td>2</td>\n      <td>1</td>\n      <td>1</td>\n      <td>Cumings, Mrs. John Bradley (Florence Briggs Th...</td>\n      <td>female</td>\n      <td>38.0</td>\n      <td>1</td>\n      <td>0</td>\n      <td>PC 17599</td>\n      <td>71.2833</td>\n      <td>C85</td>\n      <td>C</td>\n    </tr>\n    <tr>\n      <th>2</th>\n      <td>3</td>\n      <td>1</td>\n      <td>3</td>\n      <td>Heikkinen, Miss. Laina</td>\n      <td>female</td>\n      <td>26.0</td>\n      <td>0</td>\n      <td>0</td>\n      <td>STON/O2. 3101282</td>\n      <td>7.9250</td>\n      <td>NaN</td>\n      <td>S</td>\n    </tr>\n    <tr>\n      <th>3</th>\n      <td>4</td>\n      <td>1</td>\n      <td>1</td>\n      <td>Futrelle, Mrs. Jacques Heath (Lily May Peel)</td>\n      <td>female</td>\n      <td>35.0</td>\n      <td>1</td>\n      <td>0</td>\n      <td>113803</td>\n      <td>53.1000</td>\n      <td>C123</td>\n      <td>S</td>\n    </tr>\n    <tr>\n      <th>4</th>\n      <td>5</td>\n      <td>0</td>\n      <td>3</td>\n      <td>Allen, Mr. William Henry</td>\n      <td>male</td>\n      <td>35.0</td>\n      <td>0</td>\n      <td>0</td>\n      <td>373450</td>\n      <td>8.0500</td>\n      <td>NaN</td>\n      <td>S</td>\n    </tr>\n  </tbody>\n</table>\n</div>", 
                        "text/plain": "   PassengerId  Survived  Pclass  \\\n0            1         0       3   \n1            2         1       1   \n2            3         1       3   \n3            4         1       1   \n4            5         0       3   \n\n                                                Name     Sex   Age  SibSp  \\\n0                            Braund, Mr. Owen Harris    male  22.0      1   \n1  Cumings, Mrs. John Bradley (Florence Briggs Th...  female  38.0      1   \n2                             Heikkinen, Miss. Laina  female  26.0      0   \n3       Futrelle, Mrs. Jacques Heath (Lily May Peel)  female  35.0      1   \n4                           Allen, Mr. William Henry    male  35.0      0   \n\n   Parch            Ticket     Fare Cabin Embarked  \n0      0         A/5 21171   7.2500   NaN        S  \n1      0          PC 17599  71.2833   C85        C  \n2      0  STON/O2. 3101282   7.9250   NaN        S  \n3      0            113803  53.1000  C123        S  \n4      0            373450   8.0500   NaN        S  "
                    }, 
                    "output_type": "execute_result"
                }
            ], 
            "source": "# The code was removed by Watson Studio for sharing."
        }, 
        {
            "execution_count": 2, 
            "cell_type": "code", 
            "metadata": {}, 
            "outputs": [
                {
                    "execution_count": 2, 
                    "metadata": {}, 
                    "data": {
                        "text/html": "<div>\n<style scoped>\n    .dataframe tbody tr th:only-of-type {\n        vertical-align: middle;\n    }\n\n    .dataframe tbody tr th {\n        vertical-align: top;\n    }\n\n    .dataframe thead th {\n        text-align: right;\n    }\n</style>\n<table border=\"1\" class=\"dataframe\">\n  <thead>\n    <tr style=\"text-align: right;\">\n      <th></th>\n      <th>PassengerId</th>\n      <th>Pclass</th>\n      <th>Name</th>\n      <th>Sex</th>\n      <th>Age</th>\n      <th>SibSp</th>\n      <th>Parch</th>\n      <th>Ticket</th>\n      <th>Fare</th>\n      <th>Cabin</th>\n      <th>Embarked</th>\n    </tr>\n  </thead>\n  <tbody>\n    <tr>\n      <th>0</th>\n      <td>892</td>\n      <td>3</td>\n      <td>Kelly, Mr. James</td>\n      <td>male</td>\n      <td>34.5</td>\n      <td>0</td>\n      <td>0</td>\n      <td>330911</td>\n      <td>7.8292</td>\n      <td>NaN</td>\n      <td>Q</td>\n    </tr>\n    <tr>\n      <th>1</th>\n      <td>893</td>\n      <td>3</td>\n      <td>Wilkes, Mrs. James (Ellen Needs)</td>\n      <td>female</td>\n      <td>47.0</td>\n      <td>1</td>\n      <td>0</td>\n      <td>363272</td>\n      <td>7.0000</td>\n      <td>NaN</td>\n      <td>S</td>\n    </tr>\n    <tr>\n      <th>2</th>\n      <td>894</td>\n      <td>2</td>\n      <td>Myles, Mr. Thomas Francis</td>\n      <td>male</td>\n      <td>62.0</td>\n      <td>0</td>\n      <td>0</td>\n      <td>240276</td>\n      <td>9.6875</td>\n      <td>NaN</td>\n      <td>Q</td>\n    </tr>\n    <tr>\n      <th>3</th>\n      <td>895</td>\n      <td>3</td>\n      <td>Wirz, Mr. Albert</td>\n      <td>male</td>\n      <td>27.0</td>\n      <td>0</td>\n      <td>0</td>\n      <td>315154</td>\n      <td>8.6625</td>\n      <td>NaN</td>\n      <td>S</td>\n    </tr>\n    <tr>\n      <th>4</th>\n      <td>896</td>\n      <td>3</td>\n      <td>Hirvonen, Mrs. Alexander (Helga E Lindqvist)</td>\n      <td>female</td>\n      <td>22.0</td>\n      <td>1</td>\n      <td>1</td>\n      <td>3101298</td>\n      <td>12.2875</td>\n      <td>NaN</td>\n      <td>S</td>\n    </tr>\n  </tbody>\n</table>\n</div>", 
                        "text/plain": "   PassengerId  Pclass                                          Name     Sex  \\\n0          892       3                              Kelly, Mr. James    male   \n1          893       3              Wilkes, Mrs. James (Ellen Needs)  female   \n2          894       2                     Myles, Mr. Thomas Francis    male   \n3          895       3                              Wirz, Mr. Albert    male   \n4          896       3  Hirvonen, Mrs. Alexander (Helga E Lindqvist)  female   \n\n    Age  SibSp  Parch   Ticket     Fare Cabin Embarked  \n0  34.5      0      0   330911   7.8292   NaN        Q  \n1  47.0      1      0   363272   7.0000   NaN        S  \n2  62.0      0      0   240276   9.6875   NaN        Q  \n3  27.0      0      0   315154   8.6625   NaN        S  \n4  22.0      1      1  3101298  12.2875   NaN        S  "
                    }, 
                    "output_type": "execute_result"
                }
            ], 
            "source": "# Loads the test data:\nbody = client_acbe173e64eb46b88230516bff459abd.get_object(Bucket='notebooksfortitaniccompetition-donotdelete-pr-i1laynbg8qhrl3',Key='test.csv')['Body']\n# add missing __iter__ method, so pandas accepts body as file-like object\nif not hasattr(body, \"__iter__\"): body.__iter__ = types.MethodType( __iter__, body )\n\ntest_data = pd.read_csv(body)\ntest_data.head()\n\n"
        }, 
        {
            "execution_count": 3, 
            "cell_type": "code", 
            "metadata": {}, 
            "outputs": [], 
            "source": "# Imports libraries\nimport pandas as pd\nimport seaborn as sns\nimport numpy as np\nimport matplotlib\nfrom matplotlib import pyplot as plt"
        }, 
        {
            "source": "# Preprocess the data:\nLet's make the data more useful", 
            "cell_type": "markdown", 
            "metadata": {}
        }, 
        {
            "source": "__Make a combination of the train data and test data so we can take a closer look on the data__", 
            "cell_type": "markdown", 
            "metadata": {}
        }, 
        {
            "execution_count": 4, 
            "cell_type": "code", 
            "metadata": {}, 
            "outputs": [], 
            "source": "# Inserts 'Survived' column to test data\nimport pandas as pd\ntest_data.insert(1, 'Survived', pd.Series([None] * len(test_data.index)))"
        }, 
        {
            "execution_count": 5, 
            "cell_type": "code", 
            "metadata": {}, 
            "outputs": [
                {
                    "output_type": "stream", 
                    "name": "stdout", 
                    "text": "(891, 12)\n(418, 12)\n(1309, 12)\n"
                }, 
                {
                    "execution_count": 5, 
                    "metadata": {}, 
                    "data": {
                        "text/html": "<div>\n<style scoped>\n    .dataframe tbody tr th:only-of-type {\n        vertical-align: middle;\n    }\n\n    .dataframe tbody tr th {\n        vertical-align: top;\n    }\n\n    .dataframe thead th {\n        text-align: right;\n    }\n</style>\n<table border=\"1\" class=\"dataframe\">\n  <thead>\n    <tr style=\"text-align: right;\">\n      <th></th>\n      <th>PassengerId</th>\n      <th>Survived</th>\n      <th>Pclass</th>\n      <th>Name</th>\n      <th>Sex</th>\n      <th>Age</th>\n      <th>SibSp</th>\n      <th>Parch</th>\n      <th>Ticket</th>\n      <th>Fare</th>\n      <th>Cabin</th>\n      <th>Embarked</th>\n    </tr>\n  </thead>\n  <tbody>\n    <tr>\n      <th>413</th>\n      <td>1305</td>\n      <td>None</td>\n      <td>3</td>\n      <td>Spector, Mr. Woolf</td>\n      <td>male</td>\n      <td>NaN</td>\n      <td>0</td>\n      <td>0</td>\n      <td>A.5. 3236</td>\n      <td>8.0500</td>\n      <td>NaN</td>\n      <td>S</td>\n    </tr>\n    <tr>\n      <th>414</th>\n      <td>1306</td>\n      <td>None</td>\n      <td>1</td>\n      <td>Oliva y Ocana, Dona. Fermina</td>\n      <td>female</td>\n      <td>39.0</td>\n      <td>0</td>\n      <td>0</td>\n      <td>PC 17758</td>\n      <td>108.9000</td>\n      <td>C105</td>\n      <td>C</td>\n    </tr>\n    <tr>\n      <th>415</th>\n      <td>1307</td>\n      <td>None</td>\n      <td>3</td>\n      <td>Saether, Mr. Simon Sivertsen</td>\n      <td>male</td>\n      <td>38.5</td>\n      <td>0</td>\n      <td>0</td>\n      <td>SOTON/O.Q. 3101262</td>\n      <td>7.2500</td>\n      <td>NaN</td>\n      <td>S</td>\n    </tr>\n    <tr>\n      <th>416</th>\n      <td>1308</td>\n      <td>None</td>\n      <td>3</td>\n      <td>Ware, Mr. Frederick</td>\n      <td>male</td>\n      <td>NaN</td>\n      <td>0</td>\n      <td>0</td>\n      <td>359309</td>\n      <td>8.0500</td>\n      <td>NaN</td>\n      <td>S</td>\n    </tr>\n    <tr>\n      <th>417</th>\n      <td>1309</td>\n      <td>None</td>\n      <td>3</td>\n      <td>Peter, Master. Michael J</td>\n      <td>male</td>\n      <td>NaN</td>\n      <td>1</td>\n      <td>1</td>\n      <td>2668</td>\n      <td>22.3583</td>\n      <td>NaN</td>\n      <td>C</td>\n    </tr>\n  </tbody>\n</table>\n</div>", 
                        "text/plain": "     PassengerId Survived  Pclass                          Name     Sex   Age  \\\n413         1305     None       3            Spector, Mr. Woolf    male   NaN   \n414         1306     None       1  Oliva y Ocana, Dona. Fermina  female  39.0   \n415         1307     None       3  Saether, Mr. Simon Sivertsen    male  38.5   \n416         1308     None       3           Ware, Mr. Frederick    male   NaN   \n417         1309     None       3      Peter, Master. Michael J    male   NaN   \n\n     SibSp  Parch              Ticket      Fare Cabin Embarked  \n413      0      0           A.5. 3236    8.0500   NaN        S  \n414      0      0            PC 17758  108.9000  C105        C  \n415      0      0  SOTON/O.Q. 3101262    7.2500   NaN        S  \n416      0      0              359309    8.0500   NaN        S  \n417      1      1                2668   22.3583   NaN        C  "
                    }, 
                    "output_type": "execute_result"
                }
            ], 
            "source": "# Combines the data\ncombined_data = train_data.append(test_data)\nprint(train_data.shape)\nprint(test_data.shape)\nprint(combined_data.shape)\ncombined_data.tail()"
        }, 
        {
            "execution_count": 6, 
            "cell_type": "code", 
            "metadata": {}, 
            "outputs": [], 
            "source": "# We will want to provide a function that projects the train and test data from the combined data\ndef get_train_data():\n    return combined_data[0:len(train_data)]\n\ndef get_test_data():\n    return combined_data[len(train_data):len(combined_data)]"
        }, 
        {
            "source": "## Let's investigate on each column so we can make a better decision on them", 
            "cell_type": "markdown", 
            "metadata": {}
        }, 
        {
            "source": "__PassengerID__\n\nThis is the unique ID for each passenger so we just leave it untouched", 
            "cell_type": "markdown", 
            "metadata": {}
        }, 
        {
            "source": "__Survived__\n\nThe target for our model.<br>\nLet's check if there is any missing value on the train data.", 
            "cell_type": "markdown", 
            "metadata": {}
        }, 
        {
            "execution_count": 7, 
            "cell_type": "code", 
            "metadata": {}, 
            "outputs": [], 
            "source": "# Define a function so we can reuse it:\ndef check_missing_values(df, feature):\n    \"\"\" Prints the number of missing value on the given feature\n        df: the dataframe that contains the feature\n        feature: the given feature\n    \"\"\"\n    missing_values = df[[feature]].isnull()    \n    print('Number of missing values:', missing_values[feature].sum(), 'on', len(missing_values), 'total')"
        }, 
        {
            "execution_count": 8, 
            "cell_type": "code", 
            "metadata": {}, 
            "outputs": [
                {
                    "output_type": "stream", 
                    "name": "stdout", 
                    "text": "Number of missing values: 0 on 891 total\n"
                }
            ], 
            "source": "#  Checks for missing values on 'Survived':\ncheck_missing_values(train_data, 'Survived')"
        }, 
        {
            "source": "__Pclass__\n\nThe ticket class of the passenger.<br>\nBased on the description of kaggle, let's assumn that the order of the class is 1, 2, 3 in ascending", 
            "cell_type": "markdown", 
            "metadata": {}
        }, 
        {
            "execution_count": 9, 
            "cell_type": "code", 
            "metadata": {}, 
            "outputs": [
                {
                    "output_type": "stream", 
                    "name": "stdout", 
                    "text": "Number of missing values: 0 on 1309 total\n"
                }
            ], 
            "source": "check_missing_values(combined_data, 'Pclass')"
        }, 
        {
            "execution_count": 10, 
            "cell_type": "code", 
            "metadata": {}, 
            "outputs": [
                {
                    "output_type": "stream", 
                    "name": "stderr", 
                    "text": "/opt/conda/envs/DSX-Python35/lib/python3.5/site-packages/seaborn/categorical.py:1508: FutureWarning: remove_na is deprecated and is a private function. Do not use.\n  stat_data = remove_na(group_data[hue_mask])\n"
                }, 
                {
                    "execution_count": 10, 
                    "metadata": {}, 
                    "data": {
                        "text/plain": "<matplotlib.axes._subplots.AxesSubplot at 0x7f8f5fba6390>"
                    }, 
                    "output_type": "execute_result"
                }, 
                {
                    "output_type": "display_data", 
                    "data": {
                        "image/png": "[encoded data removed]", 
                        "text/plain": "<matplotlib.figure.Figure at 0x7f8f90295cf8>"
                    }, 
                    "metadata": {}
                }
            ], 
            "source": "sns.countplot(data = train_data, x = 'Pclass', hue = 'Survived')"
        }, 
        {
            "source": "As we can see, people in higher class tend to have higher survival change.", 
            "cell_type": "markdown", 
            "metadata": {}
        }, 
        {
            "execution_count": 11, 
            "cell_type": "code", 
            "metadata": {}, 
            "outputs": [
                {
                    "execution_count": 11, 
                    "metadata": {}, 
                    "data": {
                        "text/html": "<div>\n<style scoped>\n    .dataframe tbody tr th:only-of-type {\n        vertical-align: middle;\n    }\n\n    .dataframe tbody tr th {\n        vertical-align: top;\n    }\n\n    .dataframe thead th {\n        text-align: right;\n    }\n</style>\n<table border=\"1\" class=\"dataframe\">\n  <thead>\n    <tr style=\"text-align: right;\">\n      <th></th>\n      <th>Upper-class</th>\n      <th>Middle-class</th>\n      <th>Lower-class</th>\n    </tr>\n  </thead>\n  <tbody>\n    <tr>\n      <th>0</th>\n      <td>0</td>\n      <td>0</td>\n      <td>1</td>\n    </tr>\n    <tr>\n      <th>1</th>\n      <td>1</td>\n      <td>0</td>\n      <td>0</td>\n    </tr>\n    <tr>\n      <th>2</th>\n      <td>0</td>\n      <td>0</td>\n      <td>1</td>\n    </tr>\n    <tr>\n      <th>3</th>\n      <td>1</td>\n      <td>0</td>\n      <td>0</td>\n    </tr>\n    <tr>\n      <th>4</th>\n      <td>0</td>\n      <td>0</td>\n      <td>1</td>\n    </tr>\n  </tbody>\n</table>\n</div>", 
                        "text/plain": "   Upper-class  Middle-class  Lower-class\n0            0             0            1\n1            1             0            0\n2            0             0            1\n3            1             0            0\n4            0             0            1"
                    }, 
                    "output_type": "execute_result"
                }
            ], 
            "source": "# Bucketizes the ticket classes\ndummies = pd.get_dummies(combined_data['Pclass'])\ndummies.rename(columns = {1:'Upper-class', 2:'Middle-class', 3:'Lower-class'}, inplace = True)\ndummies.head()"
        }, 
        {
            "execution_count": 12, 
            "cell_type": "code", 
            "metadata": {}, 
            "outputs": [
                {
                    "execution_count": 12, 
                    "metadata": {}, 
                    "data": {
                        "text/html": "<div>\n<style scoped>\n    .dataframe tbody tr th:only-of-type {\n        vertical-align: middle;\n    }\n\n    .dataframe tbody tr th {\n        vertical-align: top;\n    }\n\n    .dataframe thead th {\n        text-align: right;\n    }\n</style>\n<table border=\"1\" class=\"dataframe\">\n  <thead>\n    <tr style=\"text-align: right;\">\n      <th></th>\n      <th>PassengerId</th>\n      <th>Survived</th>\n      <th>Pclass</th>\n      <th>Name</th>\n      <th>Sex</th>\n      <th>Age</th>\n      <th>SibSp</th>\n      <th>Parch</th>\n      <th>Ticket</th>\n      <th>Fare</th>\n      <th>Cabin</th>\n      <th>Embarked</th>\n      <th>Upper-class</th>\n      <th>Middle-class</th>\n      <th>Lower-class</th>\n    </tr>\n  </thead>\n  <tbody>\n    <tr>\n      <th>0</th>\n      <td>1</td>\n      <td>0</td>\n      <td>3</td>\n      <td>Braund, Mr. Owen Harris</td>\n      <td>male</td>\n      <td>22.0</td>\n      <td>1</td>\n      <td>0</td>\n      <td>A/5 21171</td>\n      <td>7.2500</td>\n      <td>NaN</td>\n      <td>S</td>\n      <td>0</td>\n      <td>0</td>\n      <td>1</td>\n    </tr>\n    <tr>\n      <th>1</th>\n      <td>2</td>\n      <td>1</td>\n      <td>1</td>\n      <td>Cumings, Mrs. John Bradley (Florence Briggs Th...</td>\n      <td>female</td>\n      <td>38.0</td>\n      <td>1</td>\n      <td>0</td>\n      <td>PC 17599</td>\n      <td>71.2833</td>\n      <td>C85</td>\n      <td>C</td>\n      <td>1</td>\n      <td>0</td>\n      <td>0</td>\n    </tr>\n    <tr>\n      <th>2</th>\n      <td>3</td>\n      <td>1</td>\n      <td>3</td>\n      <td>Heikkinen, Miss. Laina</td>\n      <td>female</td>\n      <td>26.0</td>\n      <td>0</td>\n      <td>0</td>\n      <td>STON/O2. 3101282</td>\n      <td>7.9250</td>\n      <td>NaN</td>\n      <td>S</td>\n      <td>0</td>\n      <td>0</td>\n      <td>1</td>\n    </tr>\n    <tr>\n      <th>3</th>\n      <td>4</td>\n      <td>1</td>\n      <td>1</td>\n      <td>Futrelle, Mrs. Jacques Heath (Lily May Peel)</td>\n      <td>female</td>\n      <td>35.0</td>\n      <td>1</td>\n      <td>0</td>\n      <td>113803</td>\n      <td>53.1000</td>\n      <td>C123</td>\n      <td>S</td>\n      <td>1</td>\n      <td>0</td>\n      <td>0</td>\n    </tr>\n    <tr>\n      <th>4</th>\n      <td>5</td>\n      <td>0</td>\n      <td>3</td>\n      <td>Allen, Mr. William Henry</td>\n      <td>male</td>\n      <td>35.0</td>\n      <td>0</td>\n      <td>0</td>\n      <td>373450</td>\n      <td>8.0500</td>\n      <td>NaN</td>\n      <td>S</td>\n      <td>0</td>\n      <td>0</td>\n      <td>1</td>\n    </tr>\n  </tbody>\n</table>\n</div>", 
                        "text/plain": "   PassengerId Survived  Pclass  \\\n0            1        0       3   \n1            2        1       1   \n2            3        1       3   \n3            4        1       1   \n4            5        0       3   \n\n                                                Name     Sex   Age  SibSp  \\\n0                            Braund, Mr. Owen Harris    male  22.0      1   \n1  Cumings, Mrs. John Bradley (Florence Briggs Th...  female  38.0      1   \n2                             Heikkinen, Miss. Laina  female  26.0      0   \n3       Futrelle, Mrs. Jacques Heath (Lily May Peel)  female  35.0      1   \n4                           Allen, Mr. William Henry    male  35.0      0   \n\n   Parch            Ticket     Fare Cabin Embarked  Upper-class  Middle-class  \\\n0      0         A/5 21171   7.2500   NaN        S            0             0   \n1      0          PC 17599  71.2833   C85        C            1             0   \n2      0  STON/O2. 3101282   7.9250   NaN        S            0             0   \n3      0            113803  53.1000  C123        S            1             0   \n4      0            373450   8.0500   NaN        S            0             0   \n\n   Lower-class  \n0            1  \n1            0  \n2            1  \n3            0  \n4            1  "
                    }, 
                    "output_type": "execute_result"
                }
            ], 
            "source": "combined_data = pd.concat([combined_data, dummies], axis = 1)\ncombined_data.head()"
        }, 
        {
            "source": "__Name__\n\nName won't affect our model much, so leave it be.", 
            "cell_type": "markdown", 
            "metadata": {}
        }, 
        {
            "source": "__Sex__\n\nWomen are usually priotizied. Let's see if it's true", 
            "cell_type": "markdown", 
            "metadata": {}
        }, 
        {
            "execution_count": 13, 
            "cell_type": "code", 
            "metadata": {}, 
            "outputs": [
                {
                    "output_type": "stream", 
                    "name": "stdout", 
                    "text": "Number of missing values: 0 on 1309 total\n"
                }
            ], 
            "source": "# First checks if there is missing values:\ncheck_missing_values(combined_data, 'Sex')"
        }, 
        {
            "execution_count": 14, 
            "cell_type": "code", 
            "metadata": {}, 
            "outputs": [
                {
                    "output_type": "stream", 
                    "name": "stderr", 
                    "text": "/opt/conda/envs/DSX-Python35/lib/python3.5/site-packages/seaborn/categorical.py:1508: FutureWarning: remove_na is deprecated and is a private function. Do not use.\n  stat_data = remove_na(group_data[hue_mask])\n"
                }, 
                {
                    "execution_count": 14, 
                    "metadata": {}, 
                    "data": {
                        "text/plain": "<matplotlib.axes._subplots.AxesSubplot at 0x7f8f58061c18>"
                    }, 
                    "output_type": "execute_result"
                }, 
                {
                    "output_type": "display_data", 
                    "data": {
                        "image/png": "[encoded data removed]", 
                        "text/plain": "<matplotlib.figure.Figure at 0x7f8f580a6588>"
                    }, 
                    "metadata": {}
                }
            ], 
            "source": "sns.countplot(x = 'Sex', hue = 'Survived', data = train_data)"
        }, 
        {
            "source": "As we can see, it's cleary women have a higher change of survival than men.<br>\nSo let's bucketize them.", 
            "cell_type": "markdown", 
            "metadata": {}
        }, 
        {
            "execution_count": 15, 
            "cell_type": "code", 
            "metadata": {}, 
            "outputs": [
                {
                    "execution_count": 15, 
                    "metadata": {}, 
                    "data": {
                        "text/html": "<div>\n<style scoped>\n    .dataframe tbody tr th:only-of-type {\n        vertical-align: middle;\n    }\n\n    .dataframe tbody tr th {\n        vertical-align: top;\n    }\n\n    .dataframe thead th {\n        text-align: right;\n    }\n</style>\n<table border=\"1\" class=\"dataframe\">\n  <thead>\n    <tr style=\"text-align: right;\">\n      <th></th>\n      <th>Female</th>\n      <th>Male</th>\n    </tr>\n  </thead>\n  <tbody>\n    <tr>\n      <th>0</th>\n      <td>0</td>\n      <td>1</td>\n    </tr>\n    <tr>\n      <th>1</th>\n      <td>1</td>\n      <td>0</td>\n    </tr>\n    <tr>\n      <th>2</th>\n      <td>1</td>\n      <td>0</td>\n    </tr>\n    <tr>\n      <th>3</th>\n      <td>1</td>\n      <td>0</td>\n    </tr>\n    <tr>\n      <th>4</th>\n      <td>0</td>\n      <td>1</td>\n    </tr>\n  </tbody>\n</table>\n</div>", 
                        "text/plain": "   Female  Male\n0       0     1\n1       1     0\n2       1     0\n3       1     0\n4       0     1"
                    }, 
                    "output_type": "execute_result"
                }
            ], 
            "source": "sex_bucketized = pd.get_dummies(combined_data['Sex'])\nsex_bucketized.rename(columns = {'female':'Female', 'male':'Male'}, inplace = True)\nsex_bucketized.head()"
        }, 
        {
            "execution_count": 16, 
            "cell_type": "code", 
            "metadata": {}, 
            "outputs": [
                {
                    "execution_count": 16, 
                    "metadata": {}, 
                    "data": {
                        "text/html": "<div>\n<style scoped>\n    .dataframe tbody tr th:only-of-type {\n        vertical-align: middle;\n    }\n\n    .dataframe tbody tr th {\n        vertical-align: top;\n    }\n\n    .dataframe thead th {\n        text-align: right;\n    }\n</style>\n<table border=\"1\" class=\"dataframe\">\n  <thead>\n    <tr style=\"text-align: right;\">\n      <th></th>\n      <th>PassengerId</th>\n      <th>Survived</th>\n      <th>Pclass</th>\n      <th>Name</th>\n      <th>Sex</th>\n      <th>Age</th>\n      <th>SibSp</th>\n      <th>Parch</th>\n      <th>Ticket</th>\n      <th>Fare</th>\n      <th>Cabin</th>\n      <th>Embarked</th>\n      <th>Upper-class</th>\n      <th>Middle-class</th>\n      <th>Lower-class</th>\n      <th>Female</th>\n      <th>Male</th>\n    </tr>\n  </thead>\n  <tbody>\n    <tr>\n      <th>0</th>\n      <td>1</td>\n      <td>0</td>\n      <td>3</td>\n      <td>Braund, Mr. Owen Harris</td>\n      <td>male</td>\n      <td>22.0</td>\n      <td>1</td>\n      <td>0</td>\n      <td>A/5 21171</td>\n      <td>7.2500</td>\n      <td>NaN</td>\n      <td>S</td>\n      <td>0</td>\n      <td>0</td>\n      <td>1</td>\n      <td>0</td>\n      <td>1</td>\n    </tr>\n    <tr>\n      <th>1</th>\n      <td>2</td>\n      <td>1</td>\n      <td>1</td>\n      <td>Cumings, Mrs. John Bradley (Florence Briggs Th...</td>\n      <td>female</td>\n      <td>38.0</td>\n      <td>1</td>\n      <td>0</td>\n      <td>PC 17599</td>\n      <td>71.2833</td>\n      <td>C85</td>\n      <td>C</td>\n      <td>1</td>\n      <td>0</td>\n      <td>0</td>\n      <td>1</td>\n      <td>0</td>\n    </tr>\n    <tr>\n      <th>2</th>\n      <td>3</td>\n      <td>1</td>\n      <td>3</td>\n      <td>Heikkinen, Miss. Laina</td>\n      <td>female</td>\n      <td>26.0</td>\n      <td>0</td>\n      <td>0</td>\n      <td>STON/O2. 3101282</td>\n      <td>7.9250</td>\n      <td>NaN</td>\n      <td>S</td>\n      <td>0</td>\n      <td>0</td>\n      <td>1</td>\n      <td>1</td>\n      <td>0</td>\n    </tr>\n    <tr>\n      <th>3</th>\n      <td>4</td>\n      <td>1</td>\n      <td>1</td>\n      <td>Futrelle, Mrs. Jacques Heath (Lily May Peel)</td>\n      <td>female</td>\n      <td>35.0</td>\n      <td>1</td>\n      <td>0</td>\n      <td>113803</td>\n      <td>53.1000</td>\n      <td>C123</td>\n      <td>S</td>\n      <td>1</td>\n      <td>0</td>\n      <td>0</td>\n      <td>1</td>\n      <td>0</td>\n    </tr>\n    <tr>\n      <th>4</th>\n      <td>5</td>\n      <td>0</td>\n      <td>3</td>\n      <td>Allen, Mr. William Henry</td>\n      <td>male</td>\n      <td>35.0</td>\n      <td>0</td>\n      <td>0</td>\n      <td>373450</td>\n      <td>8.0500</td>\n      <td>NaN</td>\n      <td>S</td>\n      <td>0</td>\n      <td>0</td>\n      <td>1</td>\n      <td>0</td>\n      <td>1</td>\n    </tr>\n  </tbody>\n</table>\n</div>", 
                        "text/plain": "   PassengerId Survived  Pclass  \\\n0            1        0       3   \n1            2        1       1   \n2            3        1       3   \n3            4        1       1   \n4            5        0       3   \n\n                                                Name     Sex   Age  SibSp  \\\n0                            Braund, Mr. Owen Harris    male  22.0      1   \n1  Cumings, Mrs. John Bradley (Florence Briggs Th...  female  38.0      1   \n2                             Heikkinen, Miss. Laina  female  26.0      0   \n3       Futrelle, Mrs. Jacques Heath (Lily May Peel)  female  35.0      1   \n4                           Allen, Mr. William Henry    male  35.0      0   \n\n   Parch            Ticket     Fare Cabin Embarked  Upper-class  Middle-class  \\\n0      0         A/5 21171   7.2500   NaN        S            0             0   \n1      0          PC 17599  71.2833   C85        C            1             0   \n2      0  STON/O2. 3101282   7.9250   NaN        S            0             0   \n3      0            113803  53.1000  C123        S            1             0   \n4      0            373450   8.0500   NaN        S            0             0   \n\n   Lower-class  Female  Male  \n0            1       0     1  \n1            0       1     0  \n2            1       1     0  \n3            0       1     0  \n4            1       0     1  "
                    }, 
                    "output_type": "execute_result"
                }
            ], 
            "source": "combined_data = pd.concat([combined_data, sex_bucketized], axis = 1)\ncombined_data.head()"
        }, 
        {
            "execution_count": 17, 
            "cell_type": "code", 
            "metadata": {}, 
            "outputs": [
                {
                    "execution_count": 17, 
                    "metadata": {}, 
                    "data": {
                        "text/html": "<div>\n<style scoped>\n    .dataframe tbody tr th:only-of-type {\n        vertical-align: middle;\n    }\n\n    .dataframe tbody tr th {\n        vertical-align: top;\n    }\n\n    .dataframe thead th {\n        text-align: right;\n    }\n</style>\n<table border=\"1\" class=\"dataframe\">\n  <thead>\n    <tr style=\"text-align: right;\">\n      <th></th>\n      <th>PassengerId</th>\n      <th>Survived</th>\n      <th>Pclass</th>\n      <th>Name</th>\n      <th>Age</th>\n      <th>SibSp</th>\n      <th>Parch</th>\n      <th>Ticket</th>\n      <th>Fare</th>\n      <th>Cabin</th>\n      <th>Embarked</th>\n      <th>Upper-class</th>\n      <th>Middle-class</th>\n      <th>Lower-class</th>\n      <th>Female</th>\n      <th>Male</th>\n    </tr>\n  </thead>\n  <tbody>\n    <tr>\n      <th>0</th>\n      <td>1</td>\n      <td>0</td>\n      <td>3</td>\n      <td>Braund, Mr. Owen Harris</td>\n      <td>22.0</td>\n      <td>1</td>\n      <td>0</td>\n      <td>A/5 21171</td>\n      <td>7.2500</td>\n      <td>NaN</td>\n      <td>S</td>\n      <td>0</td>\n      <td>0</td>\n      <td>1</td>\n      <td>0</td>\n      <td>1</td>\n    </tr>\n    <tr>\n      <th>1</th>\n      <td>2</td>\n      <td>1</td>\n      <td>1</td>\n      <td>Cumings, Mrs. John Bradley (Florence Briggs Th...</td>\n      <td>38.0</td>\n      <td>1</td>\n      <td>0</td>\n      <td>PC 17599</td>\n      <td>71.2833</td>\n      <td>C85</td>\n      <td>C</td>\n      <td>1</td>\n      <td>0</td>\n      <td>0</td>\n      <td>1</td>\n      <td>0</td>\n    </tr>\n    <tr>\n      <th>2</th>\n      <td>3</td>\n      <td>1</td>\n      <td>3</td>\n      <td>Heikkinen, Miss. Laina</td>\n      <td>26.0</td>\n      <td>0</td>\n      <td>0</td>\n      <td>STON/O2. 3101282</td>\n      <td>7.9250</td>\n      <td>NaN</td>\n      <td>S</td>\n      <td>0</td>\n      <td>0</td>\n      <td>1</td>\n      <td>1</td>\n      <td>0</td>\n    </tr>\n    <tr>\n      <th>3</th>\n      <td>4</td>\n      <td>1</td>\n      <td>1</td>\n      <td>Futrelle, Mrs. Jacques Heath (Lily May Peel)</td>\n      <td>35.0</td>\n      <td>1</td>\n      <td>0</td>\n      <td>113803</td>\n      <td>53.1000</td>\n      <td>C123</td>\n      <td>S</td>\n      <td>1</td>\n      <td>0</td>\n      <td>0</td>\n      <td>1</td>\n      <td>0</td>\n    </tr>\n    <tr>\n      <th>4</th>\n      <td>5</td>\n      <td>0</td>\n      <td>3</td>\n      <td>Allen, Mr. William Henry</td>\n      <td>35.0</td>\n      <td>0</td>\n      <td>0</td>\n      <td>373450</td>\n      <td>8.0500</td>\n      <td>NaN</td>\n      <td>S</td>\n      <td>0</td>\n      <td>0</td>\n      <td>1</td>\n      <td>0</td>\n      <td>1</td>\n    </tr>\n  </tbody>\n</table>\n</div>", 
                        "text/plain": "   PassengerId Survived  Pclass  \\\n0            1        0       3   \n1            2        1       1   \n2            3        1       3   \n3            4        1       1   \n4            5        0       3   \n\n                                                Name   Age  SibSp  Parch  \\\n0                            Braund, Mr. Owen Harris  22.0      1      0   \n1  Cumings, Mrs. John Bradley (Florence Briggs Th...  38.0      1      0   \n2                             Heikkinen, Miss. Laina  26.0      0      0   \n3       Futrelle, Mrs. Jacques Heath (Lily May Peel)  35.0      1      0   \n4                           Allen, Mr. William Henry  35.0      0      0   \n\n             Ticket     Fare Cabin Embarked  Upper-class  Middle-class  \\\n0         A/5 21171   7.2500   NaN        S            0             0   \n1          PC 17599  71.2833   C85        C            1             0   \n2  STON/O2. 3101282   7.9250   NaN        S            0             0   \n3            113803  53.1000  C123        S            1             0   \n4            373450   8.0500   NaN        S            0             0   \n\n   Lower-class  Female  Male  \n0            1       0     1  \n1            0       1     0  \n2            1       1     0  \n3            0       1     0  \n4            1       0     1  "
                    }, 
                    "output_type": "execute_result"
                }
            ], 
            "source": "# Drops the Sex column\ncombined_data.drop('Sex', axis = 1, inplace = True)\ncombined_data.head()"
        }, 
        {
            "source": "__Age__\n\nThe age of the passengers.<br>\nLet's see how age affects the change of survival of the passengers.", 
            "cell_type": "markdown", 
            "metadata": {}
        }, 
        {
            "execution_count": 18, 
            "cell_type": "code", 
            "metadata": {}, 
            "outputs": [
                {
                    "output_type": "stream", 
                    "name": "stdout", 
                    "text": "Number of missing values: 263 on 1309 total\n"
                }
            ], 
            "source": "# First checks for missing value\ncheck_missing_values(combined_data, 'Age')"
        }, 
        {
            "source": "20% of missing values. We may want to replace them by mean. However, that means we have a bunch of people that are on the same age in our dataset, which is unnatural.<br>\nSo we just need to simply leave the missing values there.<br>\nMoreover, bucketize them seems to be a good idea.", 
            "cell_type": "markdown", 
            "metadata": {}
        }, 
        {
            "execution_count": 19, 
            "cell_type": "code", 
            "metadata": {}, 
            "outputs": [
                {
                    "output_type": "stream", 
                    "name": "stdout", 
                    "text": "Number of missing values: 0 on 1309 total\n"
                }
            ], 
            "source": "# Replaces the missing value by 0\ncombined_data['Age'].replace(np.nan, 0, inplace = True)\ncheck_missing_values(combined_data, 'Age')"
        }, 
        {
            "execution_count": 20, 
            "cell_type": "code", 
            "metadata": {}, 
            "outputs": [
                {
                    "execution_count": 20, 
                    "metadata": {}, 
                    "data": {
                        "text/html": "<div>\n<style scoped>\n    .dataframe tbody tr th:only-of-type {\n        vertical-align: middle;\n    }\n\n    .dataframe tbody tr th {\n        vertical-align: top;\n    }\n\n    .dataframe thead th {\n        text-align: right;\n    }\n</style>\n<table border=\"1\" class=\"dataframe\">\n  <thead>\n    <tr style=\"text-align: right;\">\n      <th></th>\n      <th>PassengerId</th>\n      <th>Survived</th>\n      <th>Pclass</th>\n      <th>Name</th>\n      <th>Age</th>\n      <th>SibSp</th>\n      <th>Parch</th>\n      <th>Ticket</th>\n      <th>Fare</th>\n      <th>Cabin</th>\n      <th>Embarked</th>\n      <th>Upper-class</th>\n      <th>Middle-class</th>\n      <th>Lower-class</th>\n      <th>Female</th>\n      <th>Male</th>\n      <th>Age-binned</th>\n    </tr>\n  </thead>\n  <tbody>\n    <tr>\n      <th>0</th>\n      <td>1</td>\n      <td>0</td>\n      <td>3</td>\n      <td>Braund, Mr. Owen Harris</td>\n      <td>22.0</td>\n      <td>1</td>\n      <td>0</td>\n      <td>A/5 21171</td>\n      <td>7.2500</td>\n      <td>NaN</td>\n      <td>S</td>\n      <td>0</td>\n      <td>0</td>\n      <td>1</td>\n      <td>0</td>\n      <td>1</td>\n      <td>Young adult</td>\n    </tr>\n    <tr>\n      <th>1</th>\n      <td>2</td>\n      <td>1</td>\n      <td>1</td>\n      <td>Cumings, Mrs. John Bradley (Florence Briggs Th...</td>\n      <td>38.0</td>\n      <td>1</td>\n      <td>0</td>\n      <td>PC 17599</td>\n      <td>71.2833</td>\n      <td>C85</td>\n      <td>C</td>\n      <td>1</td>\n      <td>0</td>\n      <td>0</td>\n      <td>1</td>\n      <td>0</td>\n      <td>Adult</td>\n    </tr>\n    <tr>\n      <th>2</th>\n      <td>3</td>\n      <td>1</td>\n      <td>3</td>\n      <td>Heikkinen, Miss. Laina</td>\n      <td>26.0</td>\n      <td>0</td>\n      <td>0</td>\n      <td>STON/O2. 3101282</td>\n      <td>7.9250</td>\n      <td>NaN</td>\n      <td>S</td>\n      <td>0</td>\n      <td>0</td>\n      <td>1</td>\n      <td>1</td>\n      <td>0</td>\n      <td>Young adult</td>\n    </tr>\n    <tr>\n      <th>3</th>\n      <td>4</td>\n      <td>1</td>\n      <td>1</td>\n      <td>Futrelle, Mrs. Jacques Heath (Lily May Peel)</td>\n      <td>35.0</td>\n      <td>1</td>\n      <td>0</td>\n      <td>113803</td>\n      <td>53.1000</td>\n      <td>C123</td>\n      <td>S</td>\n      <td>1</td>\n      <td>0</td>\n      <td>0</td>\n      <td>1</td>\n      <td>0</td>\n      <td>Adult</td>\n    </tr>\n    <tr>\n      <th>4</th>\n      <td>5</td>\n      <td>0</td>\n      <td>3</td>\n      <td>Allen, Mr. William Henry</td>\n      <td>35.0</td>\n      <td>0</td>\n      <td>0</td>\n      <td>373450</td>\n      <td>8.0500</td>\n      <td>NaN</td>\n      <td>S</td>\n      <td>0</td>\n      <td>0</td>\n      <td>1</td>\n      <td>0</td>\n      <td>1</td>\n      <td>Adult</td>\n    </tr>\n  </tbody>\n</table>\n</div>", 
                        "text/plain": "   PassengerId Survived  Pclass  \\\n0            1        0       3   \n1            2        1       1   \n2            3        1       3   \n3            4        1       1   \n4            5        0       3   \n\n                                                Name   Age  SibSp  Parch  \\\n0                            Braund, Mr. Owen Harris  22.0      1      0   \n1  Cumings, Mrs. John Bradley (Florence Briggs Th...  38.0      1      0   \n2                             Heikkinen, Miss. Laina  26.0      0      0   \n3       Futrelle, Mrs. Jacques Heath (Lily May Peel)  35.0      1      0   \n4                           Allen, Mr. William Henry  35.0      0      0   \n\n             Ticket     Fare Cabin Embarked  Upper-class  Middle-class  \\\n0         A/5 21171   7.2500   NaN        S            0             0   \n1          PC 17599  71.2833   C85        C            1             0   \n2  STON/O2. 3101282   7.9250   NaN        S            0             0   \n3            113803  53.1000  C123        S            1             0   \n4            373450   8.0500   NaN        S            0             0   \n\n   Lower-class  Female  Male   Age-binned  \n0            1       0     1  Young adult  \n1            0       1     0        Adult  \n2            1       1     0  Young adult  \n3            0       1     0        Adult  \n4            1       0     1        Adult  "
                    }, 
                    "output_type": "execute_result"
                }
            ], 
            "source": "# Bucketizes the data\nbins = [-1, 0, 16, 30, 50, 70, 100]\nnames = ['Unknow', 'Children', 'Young adult', 'Adult', 'Senior', 'Elder']\ncombined_data['Age-binned'] = pd.cut(combined_data['Age'], bins, labels = names, include_lowest = True)\ncombined_data.head()"
        }, 
        {
            "execution_count": 21, 
            "cell_type": "code", 
            "metadata": {}, 
            "outputs": [
                {
                    "output_type": "stream", 
                    "name": "stderr", 
                    "text": "/opt/conda/envs/DSX-Python35/lib/python3.5/site-packages/seaborn/categorical.py:1460: FutureWarning: remove_na is deprecated and is a private function. Do not use.\n  stat_data = remove_na(group_data)\n"
                }, 
                {
                    "execution_count": 21, 
                    "metadata": {}, 
                    "data": {
                        "text/plain": "<matplotlib.axes._subplots.AxesSubplot at 0x7f8f58036cf8>"
                    }, 
                    "output_type": "execute_result"
                }, 
                {
                    "output_type": "display_data", 
                    "data": {
                        "image/png": "[encoded data removed]", 
                        "text/plain": "<matplotlib.figure.Figure at 0x7f8f5fb440b8>"
                    }, 
                    "metadata": {}
                }
            ], 
            "source": "# Counts the number of each bin\nsns.countplot(x = 'Age-binned', data = combined_data)"
        }, 
        {
            "execution_count": 22, 
            "cell_type": "code", 
            "metadata": {}, 
            "outputs": [
                {
                    "output_type": "stream", 
                    "name": "stderr", 
                    "text": "/opt/conda/envs/DSX-Python35/lib/python3.5/site-packages/ipykernel/__main__.py:3: SettingWithCopyWarning: \nA value is trying to be set on a copy of a slice from a DataFrame.\nTry using .loc[row_indexer,col_indexer] = value instead\n\nSee the caveats in the documentation: http://pandas.pydata.org/pandas-docs/stable/indexing.html#indexing-view-versus-copy\n  app.launch_new_instance()\n/opt/conda/envs/DSX-Python35/lib/python3.5/site-packages/seaborn/categorical.py:1508: FutureWarning: remove_na is deprecated and is a private function. Do not use.\n  stat_data = remove_na(group_data[hue_mask])\n"
                }, 
                {
                    "execution_count": 22, 
                    "metadata": {}, 
                    "data": {
                        "text/plain": "<matplotlib.axes._subplots.AxesSubplot at 0x7f8f58008cf8>"
                    }, 
                    "output_type": "execute_result"
                }, 
                {
                    "output_type": "display_data", 
                    "data": {
                        "image/png": "[encoded data removed]", 
                        "text/plain": "<matplotlib.figure.Figure at 0x7f8f57ff7cc0>"
                    }, 
                    "metadata": {}
                }
            ], 
            "source": "# Let's see if ages affect the change of survival\ntmp_train = get_train_data()\ntmp_train['Survived'] = pd.to_numeric(tmp_train['Survived'], errors = 'ignore')\nsns.countplot(x = 'Age-binned', hue = 'Survived', data = tmp_train)"
        }, 
        {
            "source": "Looks like the only bin that has the change of survival greater than 1 is 'Children'. <br>", 
            "cell_type": "markdown", 
            "metadata": {}
        }, 
        {
            "execution_count": 23, 
            "cell_type": "code", 
            "metadata": {}, 
            "outputs": [
                {
                    "execution_count": 23, 
                    "metadata": {}, 
                    "data": {
                        "text/html": "<div>\n<style scoped>\n    .dataframe tbody tr th:only-of-type {\n        vertical-align: middle;\n    }\n\n    .dataframe tbody tr th {\n        vertical-align: top;\n    }\n\n    .dataframe thead th {\n        text-align: right;\n    }\n</style>\n<table border=\"1\" class=\"dataframe\">\n  <thead>\n    <tr style=\"text-align: right;\">\n      <th></th>\n      <th>PassengerId</th>\n      <th>Survived</th>\n      <th>Pclass</th>\n      <th>Name</th>\n      <th>Age</th>\n      <th>SibSp</th>\n      <th>Parch</th>\n      <th>Ticket</th>\n      <th>Fare</th>\n      <th>Cabin</th>\n      <th>Embarked</th>\n      <th>Upper-class</th>\n      <th>Middle-class</th>\n      <th>Lower-class</th>\n      <th>Female</th>\n      <th>Male</th>\n      <th>Age-binned</th>\n    </tr>\n  </thead>\n  <tbody>\n    <tr>\n      <th>0</th>\n      <td>1</td>\n      <td>0</td>\n      <td>3</td>\n      <td>Braund, Mr. Owen Harris</td>\n      <td>22.0</td>\n      <td>1</td>\n      <td>0</td>\n      <td>A/5 21171</td>\n      <td>7.2500</td>\n      <td>NaN</td>\n      <td>S</td>\n      <td>0</td>\n      <td>0</td>\n      <td>1</td>\n      <td>0</td>\n      <td>1</td>\n      <td>Not children</td>\n    </tr>\n    <tr>\n      <th>1</th>\n      <td>2</td>\n      <td>1</td>\n      <td>1</td>\n      <td>Cumings, Mrs. John Bradley (Florence Briggs Th...</td>\n      <td>38.0</td>\n      <td>1</td>\n      <td>0</td>\n      <td>PC 17599</td>\n      <td>71.2833</td>\n      <td>C85</td>\n      <td>C</td>\n      <td>1</td>\n      <td>0</td>\n      <td>0</td>\n      <td>1</td>\n      <td>0</td>\n      <td>Not children</td>\n    </tr>\n    <tr>\n      <th>2</th>\n      <td>3</td>\n      <td>1</td>\n      <td>3</td>\n      <td>Heikkinen, Miss. Laina</td>\n      <td>26.0</td>\n      <td>0</td>\n      <td>0</td>\n      <td>STON/O2. 3101282</td>\n      <td>7.9250</td>\n      <td>NaN</td>\n      <td>S</td>\n      <td>0</td>\n      <td>0</td>\n      <td>1</td>\n      <td>1</td>\n      <td>0</td>\n      <td>Not children</td>\n    </tr>\n    <tr>\n      <th>3</th>\n      <td>4</td>\n      <td>1</td>\n      <td>1</td>\n      <td>Futrelle, Mrs. Jacques Heath (Lily May Peel)</td>\n      <td>35.0</td>\n      <td>1</td>\n      <td>0</td>\n      <td>113803</td>\n      <td>53.1000</td>\n      <td>C123</td>\n      <td>S</td>\n      <td>1</td>\n      <td>0</td>\n      <td>0</td>\n      <td>1</td>\n      <td>0</td>\n      <td>Not children</td>\n    </tr>\n    <tr>\n      <th>4</th>\n      <td>5</td>\n      <td>0</td>\n      <td>3</td>\n      <td>Allen, Mr. William Henry</td>\n      <td>35.0</td>\n      <td>0</td>\n      <td>0</td>\n      <td>373450</td>\n      <td>8.0500</td>\n      <td>NaN</td>\n      <td>S</td>\n      <td>0</td>\n      <td>0</td>\n      <td>1</td>\n      <td>0</td>\n      <td>1</td>\n      <td>Not children</td>\n    </tr>\n  </tbody>\n</table>\n</div>", 
                        "text/plain": "   PassengerId Survived  Pclass  \\\n0            1        0       3   \n1            2        1       1   \n2            3        1       3   \n3            4        1       1   \n4            5        0       3   \n\n                                                Name   Age  SibSp  Parch  \\\n0                            Braund, Mr. Owen Harris  22.0      1      0   \n1  Cumings, Mrs. John Bradley (Florence Briggs Th...  38.0      1      0   \n2                             Heikkinen, Miss. Laina  26.0      0      0   \n3       Futrelle, Mrs. Jacques Heath (Lily May Peel)  35.0      1      0   \n4                           Allen, Mr. William Henry  35.0      0      0   \n\n             Ticket     Fare Cabin Embarked  Upper-class  Middle-class  \\\n0         A/5 21171   7.2500   NaN        S            0             0   \n1          PC 17599  71.2833   C85        C            1             0   \n2  STON/O2. 3101282   7.9250   NaN        S            0             0   \n3            113803  53.1000  C123        S            1             0   \n4            373450   8.0500   NaN        S            0             0   \n\n   Lower-class  Female  Male    Age-binned  \n0            1       0     1  Not children  \n1            0       1     0  Not children  \n2            1       1     0  Not children  \n3            0       1     0  Not children  \n4            1       0     1  Not children  "
                    }, 
                    "output_type": "execute_result"
                }
            ], 
            "source": "combined_data['Age-binned'] = combined_data['Age-binned'].apply(lambda x: x if x == 'Children' else 'Not children')\ncombined_data.head()"
        }, 
        {
            "execution_count": 24, 
            "cell_type": "code", 
            "metadata": {}, 
            "outputs": [
                {
                    "output_type": "stream", 
                    "name": "stderr", 
                    "text": "/opt/conda/envs/DSX-Python35/lib/python3.5/site-packages/seaborn/categorical.py:1508: FutureWarning: remove_na is deprecated and is a private function. Do not use.\n  stat_data = remove_na(group_data[hue_mask])\n"
                }, 
                {
                    "execution_count": 24, 
                    "metadata": {}, 
                    "data": {
                        "text/plain": "<matplotlib.axes._subplots.AxesSubplot at 0x7f8f57ff71d0>"
                    }, 
                    "output_type": "execute_result"
                }, 
                {
                    "output_type": "display_data", 
                    "data": {
                        "image/png": "[encoded data removed]", 
                        "text/plain": "<matplotlib.figure.Figure at 0x7f8f57fbe710>"
                    }, 
                    "metadata": {}
                }
            ], 
            "source": "tmp_train = get_train_data()\nsns.countplot(x = 'Age-binned', hue = 'Survived', data = tmp_train)"
        }, 
        {
            "source": "Children has a slightly higher change.", 
            "cell_type": "markdown", 
            "metadata": {}
        }, 
        {
            "execution_count": 25, 
            "cell_type": "code", 
            "metadata": {}, 
            "outputs": [
                {
                    "execution_count": 25, 
                    "metadata": {}, 
                    "data": {
                        "text/html": "<div>\n<style scoped>\n    .dataframe tbody tr th:only-of-type {\n        vertical-align: middle;\n    }\n\n    .dataframe tbody tr th {\n        vertical-align: top;\n    }\n\n    .dataframe thead th {\n        text-align: right;\n    }\n</style>\n<table border=\"1\" class=\"dataframe\">\n  <thead>\n    <tr style=\"text-align: right;\">\n      <th></th>\n      <th>PassengerId</th>\n      <th>Survived</th>\n      <th>Pclass</th>\n      <th>Name</th>\n      <th>Age</th>\n      <th>SibSp</th>\n      <th>Parch</th>\n      <th>Ticket</th>\n      <th>Fare</th>\n      <th>Cabin</th>\n      <th>Embarked</th>\n      <th>Upper-class</th>\n      <th>Middle-class</th>\n      <th>Lower-class</th>\n      <th>Female</th>\n      <th>Male</th>\n      <th>Children</th>\n      <th>Not children</th>\n    </tr>\n  </thead>\n  <tbody>\n    <tr>\n      <th>0</th>\n      <td>1</td>\n      <td>0</td>\n      <td>3</td>\n      <td>Braund, Mr. Owen Harris</td>\n      <td>22.0</td>\n      <td>1</td>\n      <td>0</td>\n      <td>A/5 21171</td>\n      <td>7.2500</td>\n      <td>NaN</td>\n      <td>S</td>\n      <td>0</td>\n      <td>0</td>\n      <td>1</td>\n      <td>0</td>\n      <td>1</td>\n      <td>0</td>\n      <td>1</td>\n    </tr>\n    <tr>\n      <th>1</th>\n      <td>2</td>\n      <td>1</td>\n      <td>1</td>\n      <td>Cumings, Mrs. John Bradley (Florence Briggs Th...</td>\n      <td>38.0</td>\n      <td>1</td>\n      <td>0</td>\n      <td>PC 17599</td>\n      <td>71.2833</td>\n      <td>C85</td>\n      <td>C</td>\n      <td>1</td>\n      <td>0</td>\n      <td>0</td>\n      <td>1</td>\n      <td>0</td>\n      <td>0</td>\n      <td>1</td>\n    </tr>\n    <tr>\n      <th>2</th>\n      <td>3</td>\n      <td>1</td>\n      <td>3</td>\n      <td>Heikkinen, Miss. Laina</td>\n      <td>26.0</td>\n      <td>0</td>\n      <td>0</td>\n      <td>STON/O2. 3101282</td>\n      <td>7.9250</td>\n      <td>NaN</td>\n      <td>S</td>\n      <td>0</td>\n      <td>0</td>\n      <td>1</td>\n      <td>1</td>\n      <td>0</td>\n      <td>0</td>\n      <td>1</td>\n    </tr>\n    <tr>\n      <th>3</th>\n      <td>4</td>\n      <td>1</td>\n      <td>1</td>\n      <td>Futrelle, Mrs. Jacques Heath (Lily May Peel)</td>\n      <td>35.0</td>\n      <td>1</td>\n      <td>0</td>\n      <td>113803</td>\n      <td>53.1000</td>\n      <td>C123</td>\n      <td>S</td>\n      <td>1</td>\n      <td>0</td>\n      <td>0</td>\n      <td>1</td>\n      <td>0</td>\n      <td>0</td>\n      <td>1</td>\n    </tr>\n    <tr>\n      <th>4</th>\n      <td>5</td>\n      <td>0</td>\n      <td>3</td>\n      <td>Allen, Mr. William Henry</td>\n      <td>35.0</td>\n      <td>0</td>\n      <td>0</td>\n      <td>373450</td>\n      <td>8.0500</td>\n      <td>NaN</td>\n      <td>S</td>\n      <td>0</td>\n      <td>0</td>\n      <td>1</td>\n      <td>0</td>\n      <td>1</td>\n      <td>0</td>\n      <td>1</td>\n    </tr>\n  </tbody>\n</table>\n</div>", 
                        "text/plain": "   PassengerId Survived  Pclass  \\\n0            1        0       3   \n1            2        1       1   \n2            3        1       3   \n3            4        1       1   \n4            5        0       3   \n\n                                                Name   Age  SibSp  Parch  \\\n0                            Braund, Mr. Owen Harris  22.0      1      0   \n1  Cumings, Mrs. John Bradley (Florence Briggs Th...  38.0      1      0   \n2                             Heikkinen, Miss. Laina  26.0      0      0   \n3       Futrelle, Mrs. Jacques Heath (Lily May Peel)  35.0      1      0   \n4                           Allen, Mr. William Henry  35.0      0      0   \n\n             Ticket     Fare Cabin Embarked  Upper-class  Middle-class  \\\n0         A/5 21171   7.2500   NaN        S            0             0   \n1          PC 17599  71.2833   C85        C            1             0   \n2  STON/O2. 3101282   7.9250   NaN        S            0             0   \n3            113803  53.1000  C123        S            1             0   \n4            373450   8.0500   NaN        S            0             0   \n\n   Lower-class  Female  Male  Children  Not children  \n0            1       0     1         0             1  \n1            0       1     0         0             1  \n2            1       1     0         0             1  \n3            0       1     0         0             1  \n4            1       0     1         0             1  "
                    }, 
                    "output_type": "execute_result"
                }
            ], 
            "source": "# Bucketizes the age\ndummies = pd.get_dummies(combined_data['Age-binned'])\ndummies.rename(columns = {'Children':'Is-children', 'Not children':'Is-not-children'})\ncombined_data = pd.concat([combined_data, dummies], axis = 1)\ncombined_data.drop('Age-binned', axis = 1, inplace = True)\ncombined_data.head()"
        }, 
        {
            "source": "__SibSp__\n\nThe number of siblings of the passenger.<br>\n", 
            "cell_type": "markdown", 
            "metadata": {}
        }, 
        {
            "execution_count": 26, 
            "cell_type": "code", 
            "metadata": {}, 
            "outputs": [
                {
                    "output_type": "stream", 
                    "name": "stdout", 
                    "text": "Number of missing values: 0 on 1309 total\n"
                }
            ], 
            "source": "# Checks for missing values\ncheck_missing_values(combined_data, 'SibSp')"
        }, 
        {
            "execution_count": 27, 
            "cell_type": "code", 
            "metadata": {}, 
            "outputs": [
                {
                    "output_type": "stream", 
                    "name": "stderr", 
                    "text": "/opt/conda/envs/DSX-Python35/lib/python3.5/site-packages/seaborn/categorical.py:1508: FutureWarning: remove_na is deprecated and is a private function. Do not use.\n  stat_data = remove_na(group_data[hue_mask])\n"
                }, 
                {
                    "execution_count": 27, 
                    "metadata": {}, 
                    "data": {
                        "text/plain": "<matplotlib.axes._subplots.AxesSubplot at 0x7f8f57f1aa20>"
                    }, 
                    "output_type": "execute_result"
                }, 
                {
                    "output_type": "display_data", 
                    "data": {
                        "image/png": "[encoded data removed]", 
                        "text/plain": "<matplotlib.figure.Figure at 0x7f8f58061ba8>"
                    }, 
                    "metadata": {}
                }
            ], 
            "source": "sns.countplot(x = 'SibSp', hue = 'Survived', data = train_data)"
        }, 
        {
            "execution_count": 28, 
            "cell_type": "code", 
            "metadata": {}, 
            "outputs": [
                {
                    "output_type": "stream", 
                    "name": "stderr", 
                    "text": "/opt/conda/envs/DSX-Python35/lib/python3.5/site-packages/seaborn/categorical.py:1460: FutureWarning: remove_na is deprecated and is a private function. Do not use.\n  stat_data = remove_na(group_data)\n"
                }, 
                {
                    "execution_count": 28, 
                    "metadata": {}, 
                    "data": {
                        "text/plain": "<matplotlib.axes._subplots.AxesSubplot at 0x7f8f57ee6128>"
                    }, 
                    "output_type": "execute_result"
                }, 
                {
                    "output_type": "display_data", 
                    "data": {
                        "image/png": "[encoded data removed]", 
                        "text/plain": "<matplotlib.figure.Figure at 0x7f8f57f83518>"
                    }, 
                    "metadata": {}
                }
            ], 
            "source": "sns.countplot(x = 'SibSp', data = train_data)"
        }, 
        {
            "source": "Since SibSp doesn't give us much information, we just simply clip them.", 
            "cell_type": "markdown", 
            "metadata": {}
        }, 
        {
            "execution_count": 29, 
            "cell_type": "code", 
            "metadata": {}, 
            "outputs": [
                {
                    "output_type": "stream", 
                    "name": "stderr", 
                    "text": "/opt/conda/envs/DSX-Python35/lib/python3.5/site-packages/seaborn/categorical.py:1460: FutureWarning: remove_na is deprecated and is a private function. Do not use.\n  stat_data = remove_na(group_data)\n"
                }, 
                {
                    "execution_count": 29, 
                    "metadata": {}, 
                    "data": {
                        "text/plain": "<matplotlib.axes._subplots.AxesSubplot at 0x7f8f57f0e438>"
                    }, 
                    "output_type": "execute_result"
                }, 
                {
                    "output_type": "display_data", 
                    "data": {
                        "image/png": "[encoded data removed]", 
                        "text/plain": "<matplotlib.figure.Figure at 0x7f8f57ea68d0>"
                    }, 
                    "metadata": {}
                }
            ], 
            "source": "combined_data['SibSp'] = combined_data['SibSp'].apply(lambda x: min(x, 4))\nsns.countplot(data = combined_data, x = 'SibSp')"
        }, 
        {
            "source": "__Parch__\n\nThe number of children/parents of the passengers.", 
            "cell_type": "markdown", 
            "metadata": {}
        }, 
        {
            "execution_count": 30, 
            "cell_type": "code", 
            "metadata": {}, 
            "outputs": [
                {
                    "output_type": "stream", 
                    "name": "stdout", 
                    "text": "Number of missing values: 0 on 1309 total\n"
                }
            ], 
            "source": "# Checks for missing values\ncheck_missing_values(combined_data, 'Parch')"
        }, 
        {
            "execution_count": 31, 
            "cell_type": "code", 
            "metadata": {}, 
            "outputs": [
                {
                    "output_type": "stream", 
                    "name": "stderr", 
                    "text": "/opt/conda/envs/DSX-Python35/lib/python3.5/site-packages/seaborn/categorical.py:1460: FutureWarning: remove_na is deprecated and is a private function. Do not use.\n  stat_data = remove_na(group_data)\n"
                }, 
                {
                    "execution_count": 31, 
                    "metadata": {}, 
                    "data": {
                        "text/plain": "<matplotlib.axes._subplots.AxesSubplot at 0x7f8f57ed1b70>"
                    }, 
                    "output_type": "execute_result"
                }, 
                {
                    "output_type": "display_data", 
                    "data": {
                        "image/png": "[encoded data removed]", 
                        "text/plain": "<matplotlib.figure.Figure at 0x7f8f57fe6978>"
                    }, 
                    "metadata": {}
                }
            ], 
            "source": "sns.countplot(data = combined_data, x = 'Parch')"
        }, 
        {
            "execution_count": 32, 
            "cell_type": "code", 
            "metadata": {}, 
            "outputs": [
                {
                    "output_type": "stream", 
                    "name": "stderr", 
                    "text": "/opt/conda/envs/DSX-Python35/lib/python3.5/site-packages/seaborn/categorical.py:1508: FutureWarning: remove_na is deprecated and is a private function. Do not use.\n  stat_data = remove_na(group_data[hue_mask])\n"
                }, 
                {
                    "execution_count": 32, 
                    "metadata": {}, 
                    "data": {
                        "text/plain": "<matplotlib.axes._subplots.AxesSubplot at 0x7f8f57e222e8>"
                    }, 
                    "output_type": "execute_result"
                }, 
                {
                    "output_type": "display_data", 
                    "data": {
                        "image/png": "[encoded data removed]", 
                        "text/plain": "<matplotlib.figure.Figure at 0x7f8f57fcf7f0>"
                    }, 
                    "metadata": {}
                }
            ], 
            "source": "sns.countplot(x = 'Parch', hue = 'Survived', data = train_data)"
        }, 
        {
            "source": "Let's just clip the data", 
            "cell_type": "markdown", 
            "metadata": {}
        }, 
        {
            "execution_count": 33, 
            "cell_type": "code", 
            "metadata": {}, 
            "outputs": [
                {
                    "output_type": "stream", 
                    "name": "stderr", 
                    "text": "/opt/conda/envs/DSX-Python35/lib/python3.5/site-packages/seaborn/categorical.py:1460: FutureWarning: remove_na is deprecated and is a private function. Do not use.\n  stat_data = remove_na(group_data)\n"
                }, 
                {
                    "execution_count": 33, 
                    "metadata": {}, 
                    "data": {
                        "text/plain": "<matplotlib.axes._subplots.AxesSubplot at 0x7f8f57e07390>"
                    }, 
                    "output_type": "execute_result"
                }, 
                {
                    "output_type": "display_data", 
                    "data": {
                        "image/png": "[encoded data removed]", 
                        "text/plain": "<matplotlib.figure.Figure at 0x7f8f57e2ebe0>"
                    }, 
                    "metadata": {}
                }
            ], 
            "source": "combined_data['Parch'] = combined_data['Parch'].apply(lambda x: min(x, 3))\nsns.countplot(data = combined_data, x = 'Parch')"
        }, 
        {
            "source": "__Ticket__\n\nThe ticket code of the passengers.", 
            "cell_type": "markdown", 
            "metadata": {}
        }, 
        {
            "execution_count": 34, 
            "cell_type": "code", 
            "metadata": {}, 
            "outputs": [
                {
                    "output_type": "stream", 
                    "name": "stdout", 
                    "text": "Number of missing values: 0 on 1309 total\n"
                }
            ], 
            "source": "# Checks for missing values\ncheck_missing_values(combined_data, 'Ticket')"
        }, 
        {
            "source": "On normal judging, ticket codes seem to be irrelevant to survival. So we won't use them.", 
            "cell_type": "markdown", 
            "metadata": {}
        }, 
        {
            "source": "__Fare__\n\nPassengers fare.<br>\nLet's see if Fare presents the price of the ticket class.", 
            "cell_type": "markdown", 
            "metadata": {}
        }, 
        {
            "execution_count": 35, 
            "cell_type": "code", 
            "metadata": {}, 
            "outputs": [
                {
                    "output_type": "stream", 
                    "name": "stdout", 
                    "text": "Number of missing values: 1 on 1309 total\n"
                }
            ], 
            "source": "# First checks for missing values\ncheck_missing_values(combined_data, 'Fare')"
        }, 
        {
            "execution_count": 36, 
            "cell_type": "code", 
            "metadata": {}, 
            "outputs": [
                {
                    "output_type": "stream", 
                    "name": "stdout", 
                    "text": "Number of missing values: 0 on 891 total\n"
                }
            ], 
            "source": "# There is 1 missing value. Checks if it's in the train data.\ncheck_missing_values(train_data, 'Fare')"
        }, 
        {
            "source": "The missing value is in the test data. We can replace the missing value by the mean of all fare values.<br>\nHowever, if it's correct that Fare represents the price of the ticket class, we can make a better replacement.", 
            "cell_type": "markdown", 
            "metadata": {}
        }, 
        {
            "execution_count": 37, 
            "cell_type": "code", 
            "metadata": {}, 
            "outputs": [], 
            "source": "import matplotlib\nfrom matplotlib import pyplot as plt"
        }, 
        {
            "execution_count": 38, 
            "cell_type": "code", 
            "metadata": {}, 
            "outputs": [
                {
                    "execution_count": 38, 
                    "metadata": {}, 
                    "data": {
                        "text/plain": "Text(0.5,1,'Ticket class vs Fare')"
                    }, 
                    "output_type": "execute_result"
                }, 
                {
                    "output_type": "display_data", 
                    "data": {
                        "image/png": "[encoded data removed]", 
                        "text/plain": "<matplotlib.figure.Figure at 0x7f8f57d96e48>"
                    }, 
                    "metadata": {}
                }
            ], 
            "source": "plt.scatter(combined_data['Fare'], combined_data['Pclass'])\nplt.xlabel('Fare paid by passengers')\nplt.ylabel('Ticket class of passengers')\nplt.title('Ticket class vs Fare')"
        }, 
        {
            "source": "Overall, all the fares that are higher than 100 belong to the first class. So our guess seems to be correct.", 
            "cell_type": "markdown", 
            "metadata": {}
        }, 
        {
            "execution_count": 39, 
            "cell_type": "code", 
            "metadata": {}, 
            "outputs": [
                {
                    "execution_count": 39, 
                    "metadata": {}, 
                    "data": {
                        "text/plain": "152    3\nName: Pclass, dtype: int64"
                    }, 
                    "output_type": "execute_result"
                }
            ], 
            "source": "# Gets the ticket class of the passenger with missing fare value.\nmissing_fare = combined_data['Fare'].isnull()\ncombined_data[np.array(missing_fare)]['Pclass']\n"
        }, 
        {
            "source": "So the class of that passenger is 3. Let's replace the missing fare by the mean of all 3 class fares.", 
            "cell_type": "markdown", 
            "metadata": {}
        }, 
        {
            "execution_count": 40, 
            "cell_type": "code", 
            "metadata": {}, 
            "outputs": [
                {
                    "execution_count": 40, 
                    "metadata": {}, 
                    "data": {
                        "text/html": "<div>\n<style scoped>\n    .dataframe tbody tr th:only-of-type {\n        vertical-align: middle;\n    }\n\n    .dataframe tbody tr th {\n        vertical-align: top;\n    }\n\n    .dataframe thead th {\n        text-align: right;\n    }\n</style>\n<table border=\"1\" class=\"dataframe\">\n  <thead>\n    <tr style=\"text-align: right;\">\n      <th></th>\n      <th>PassengerId</th>\n      <th>Survived</th>\n      <th>Pclass</th>\n      <th>Name</th>\n      <th>Age</th>\n      <th>SibSp</th>\n      <th>Parch</th>\n      <th>Ticket</th>\n      <th>Fare</th>\n      <th>Cabin</th>\n      <th>Embarked</th>\n      <th>Upper-class</th>\n      <th>Middle-class</th>\n      <th>Lower-class</th>\n      <th>Female</th>\n      <th>Male</th>\n      <th>Children</th>\n      <th>Not children</th>\n    </tr>\n  </thead>\n  <tbody>\n    <tr>\n      <th>0</th>\n      <td>1</td>\n      <td>0</td>\n      <td>3</td>\n      <td>Braund, Mr. Owen Harris</td>\n      <td>22.0</td>\n      <td>1</td>\n      <td>0</td>\n      <td>A/5 21171</td>\n      <td>7.2500</td>\n      <td>NaN</td>\n      <td>S</td>\n      <td>0</td>\n      <td>0</td>\n      <td>1</td>\n      <td>0</td>\n      <td>1</td>\n      <td>0</td>\n      <td>1</td>\n    </tr>\n    <tr>\n      <th>2</th>\n      <td>3</td>\n      <td>1</td>\n      <td>3</td>\n      <td>Heikkinen, Miss. Laina</td>\n      <td>26.0</td>\n      <td>0</td>\n      <td>0</td>\n      <td>STON/O2. 3101282</td>\n      <td>7.9250</td>\n      <td>NaN</td>\n      <td>S</td>\n      <td>0</td>\n      <td>0</td>\n      <td>1</td>\n      <td>1</td>\n      <td>0</td>\n      <td>0</td>\n      <td>1</td>\n    </tr>\n    <tr>\n      <th>4</th>\n      <td>5</td>\n      <td>0</td>\n      <td>3</td>\n      <td>Allen, Mr. William Henry</td>\n      <td>35.0</td>\n      <td>0</td>\n      <td>0</td>\n      <td>373450</td>\n      <td>8.0500</td>\n      <td>NaN</td>\n      <td>S</td>\n      <td>0</td>\n      <td>0</td>\n      <td>1</td>\n      <td>0</td>\n      <td>1</td>\n      <td>0</td>\n      <td>1</td>\n    </tr>\n    <tr>\n      <th>5</th>\n      <td>6</td>\n      <td>0</td>\n      <td>3</td>\n      <td>Moran, Mr. James</td>\n      <td>0.0</td>\n      <td>0</td>\n      <td>0</td>\n      <td>330877</td>\n      <td>8.4583</td>\n      <td>NaN</td>\n      <td>Q</td>\n      <td>0</td>\n      <td>0</td>\n      <td>1</td>\n      <td>0</td>\n      <td>1</td>\n      <td>0</td>\n      <td>1</td>\n    </tr>\n    <tr>\n      <th>7</th>\n      <td>8</td>\n      <td>0</td>\n      <td>3</td>\n      <td>Palsson, Master. Gosta Leonard</td>\n      <td>2.0</td>\n      <td>3</td>\n      <td>1</td>\n      <td>349909</td>\n      <td>21.0750</td>\n      <td>NaN</td>\n      <td>S</td>\n      <td>0</td>\n      <td>0</td>\n      <td>1</td>\n      <td>0</td>\n      <td>1</td>\n      <td>1</td>\n      <td>0</td>\n    </tr>\n  </tbody>\n</table>\n</div>", 
                        "text/plain": "   PassengerId Survived  Pclass                            Name   Age  SibSp  \\\n0            1        0       3         Braund, Mr. Owen Harris  22.0      1   \n2            3        1       3          Heikkinen, Miss. Laina  26.0      0   \n4            5        0       3        Allen, Mr. William Henry  35.0      0   \n5            6        0       3                Moran, Mr. James   0.0      0   \n7            8        0       3  Palsson, Master. Gosta Leonard   2.0      3   \n\n   Parch            Ticket     Fare Cabin Embarked  Upper-class  Middle-class  \\\n0      0         A/5 21171   7.2500   NaN        S            0             0   \n2      0  STON/O2. 3101282   7.9250   NaN        S            0             0   \n4      0            373450   8.0500   NaN        S            0             0   \n5      0            330877   8.4583   NaN        Q            0             0   \n7      1            349909  21.0750   NaN        S            0             0   \n\n   Lower-class  Female  Male  Children  Not children  \n0            1       0     1         0             1  \n2            1       1     0         0             1  \n4            1       0     1         0             1  \n5            1       0     1         0             1  \n7            1       0     1         1             0  "
                    }, 
                    "output_type": "execute_result"
                }
            ], 
            "source": "# Gets all 3rd class passengers.\nthird_class = combined_data['Pclass'] == 3\nthird_class = combined_data[np.array(third_class)]\nthird_class.head()"
        }, 
        {
            "execution_count": 41, 
            "cell_type": "code", 
            "metadata": {}, 
            "outputs": [], 
            "source": "# Replace the missing value.\ncombined_data['Fare'] = combined_data['Fare'].replace(np.nan, third_class['Fare'].mean())"
        }, 
        {
            "execution_count": 42, 
            "cell_type": "code", 
            "metadata": {}, 
            "outputs": [
                {
                    "output_type": "stream", 
                    "name": "stdout", 
                    "text": "Number of missing values: 0 on 1309 total\n"
                }
            ], 
            "source": "check_missing_values(combined_data, 'Fare')"
        }, 
        {
            "source": "Now let's visualize the Fare vs the change of survival.", 
            "cell_type": "markdown", 
            "metadata": {}
        }, 
        {
            "execution_count": 43, 
            "cell_type": "code", 
            "metadata": {}, 
            "outputs": [
                {
                    "output_type": "stream", 
                    "name": "stderr", 
                    "text": "/opt/conda/envs/DSX-Python35/lib/python3.5/site-packages/seaborn/categorical.py:462: FutureWarning: remove_na is deprecated and is a private function. Do not use.\n  box_data = remove_na(group_data)\n"
                }, 
                {
                    "execution_count": 43, 
                    "metadata": {}, 
                    "data": {
                        "text/plain": "<matplotlib.axes._subplots.AxesSubplot at 0x7f8f57d7e9b0>"
                    }, 
                    "output_type": "execute_result"
                }, 
                {
                    "output_type": "display_data", 
                    "data": {
                        "image/png": "[encoded data removed]", 
                        "text/plain": "<matplotlib.figure.Figure at 0x7f8f5808f518>"
                    }, 
                    "metadata": {}
                }
            ], 
            "source": "sns.boxplot(data = train_data, x = 'Survived', y = 'Fare')"
        }, 
        {
            "source": "Seems like fare doesn't affect much on the change of survival.", 
            "cell_type": "markdown", 
            "metadata": {}
        }, 
        {
            "execution_count": 44, 
            "cell_type": "code", 
            "metadata": {}, 
            "outputs": [
                {
                    "execution_count": 44, 
                    "metadata": {}, 
                    "data": {
                        "text/plain": "Text(0,0.5,'Count')"
                    }, 
                    "output_type": "execute_result"
                }, 
                {
                    "output_type": "display_data", 
                    "data": {
                        "image/png": "[encoded data removed]", 
                        "text/plain": "<matplotlib.figure.Figure at 0x7f8f57d9f1d0>"
                    }, 
                    "metadata": {}
                }
            ], 
            "source": "plt.hist(combined_data['Fare'], bins = 10)\nplt.xlabel('Passenger fare')\nplt.ylabel('Count')"
        }, 
        {
            "execution_count": 45, 
            "cell_type": "code", 
            "metadata": {}, 
            "outputs": [
                {
                    "execution_count": 45, 
                    "metadata": {}, 
                    "data": {
                        "text/plain": "Text(0,0.5,'Count')"
                    }, 
                    "output_type": "execute_result"
                }, 
                {
                    "output_type": "display_data", 
                    "data": {
                        "image/png": "[encoded data removed]", 
                        "text/plain": "<matplotlib.figure.Figure at 0x7f8f57cf18d0>"
                    }, 
                    "metadata": {}
                }
            ], 
            "source": "# Let's clip the fares\ncombined_data['Fare'] = combined_data['Fare'].apply(lambda x: min(x, 175))\nplt.hist(combined_data['Fare'], bins = 10)\nplt.xlabel('Passenger fare')\nplt.ylabel('Count')"
        }, 
        {
            "execution_count": 46, 
            "cell_type": "code", 
            "metadata": {}, 
            "outputs": [], 
            "source": "# Scale the data\ncombined_data['Fare'] = combined_data['Fare'].apply(lambda x: x / combined_data['Fare'].max())"
        }, 
        {
            "execution_count": 47, 
            "cell_type": "code", 
            "metadata": {}, 
            "outputs": [
                {
                    "execution_count": 47, 
                    "metadata": {}, 
                    "data": {
                        "text/plain": "Text(0,0.5,'Count')"
                    }, 
                    "output_type": "execute_result"
                }, 
                {
                    "output_type": "display_data", 
                    "data": {
                        "image/png": "[encoded data removed]", 
                        "text/plain": "<matplotlib.figure.Figure at 0x7f8f57d13be0>"
                    }, 
                    "metadata": {}
                }
            ], 
            "source": "# Let's clip the fares\ncombined_data['Fare'] = combined_data['Fare'].apply(lambda x: min(x, 175))\nplt.hist(combined_data['Fare'], bins = 10)\nplt.xlabel('Passenger fare')\nplt.ylabel('Count')"
        }, 
        {
            "source": "__Cabin__\n\nThe cabins of the passengers.<br>\nFirst let's take a look at the values.", 
            "cell_type": "markdown", 
            "metadata": {}
        }, 
        {
            "execution_count": 48, 
            "cell_type": "code", 
            "metadata": {}, 
            "outputs": [
                {
                    "output_type": "stream", 
                    "name": "stdout", 
                    "text": "Number of missing values: 1014 on 1309 total\n"
                }
            ], 
            "source": "check_missing_values(combined_data, 'Cabin')"
        }, 
        {
            "source": "Looks like there are a lot of missing values.<br>\nLet's see if we can do anything other than drop the whole column", 
            "cell_type": "markdown", 
            "metadata": {}
        }, 
        {
            "execution_count": 49, 
            "cell_type": "code", 
            "metadata": {}, 
            "outputs": [
                {
                    "output_type": "stream", 
                    "name": "stderr", 
                    "text": "/opt/conda/envs/DSX-Python35/lib/python3.5/site-packages/seaborn/categorical.py:1508: FutureWarning: remove_na is deprecated and is a private function. Do not use.\n  stat_data = remove_na(group_data[hue_mask])\n"
                }, 
                {
                    "execution_count": 49, 
                    "metadata": {}, 
                    "data": {
                        "text/plain": "<matplotlib.axes._subplots.AxesSubplot at 0x7f8f57c383c8>"
                    }, 
                    "output_type": "execute_result"
                }, 
                {
                    "output_type": "display_data", 
                    "data": {
                        "image/png": "[encoded data removed]", 
                        "text/plain": "<matplotlib.figure.Figure at 0x7f8f57ca3748>"
                    }, 
                    "metadata": {}
                }
            ], 
            "source": "new_cabin = train_data['Cabin'].copy()\nnew_cabin.replace(np.nan, 'M', inplace = True)\nnew_cabin = new_cabin.apply(lambda x: x[0])\ntemp_train_data = train_data.copy()\ntemp_train_data['New-cabin'] = new_cabin\nsns.countplot(data = temp_train_data, x = 'New-cabin', hue = 'Survived')"
        }, 
        {
            "source": "Looks like the information from the cabin won't help us much. Maybe we will comeback to it later.", 
            "cell_type": "markdown", 
            "metadata": {}
        }, 
        {
            "source": "__Embarked__\n\nThe port of embarkation.", 
            "cell_type": "markdown", 
            "metadata": {}
        }, 
        {
            "execution_count": 50, 
            "cell_type": "code", 
            "metadata": {}, 
            "outputs": [
                {
                    "output_type": "stream", 
                    "name": "stdout", 
                    "text": "Number of missing values: 2 on 1309 total\n"
                }
            ], 
            "source": "check_missing_values(combined_data, 'Embarked')"
        }, 
        {
            "execution_count": 51, 
            "cell_type": "code", 
            "metadata": {}, 
            "outputs": [
                {
                    "output_type": "stream", 
                    "name": "stdout", 
                    "text": "Number of missing values: 2 on 891 total\n"
                }
            ], 
            "source": "check_missing_values(train_data, 'Embarked')"
        }, 
        {
            "source": "All the missing values are in the train data. Maybe we can replace them by the most frequent value.", 
            "cell_type": "markdown", 
            "metadata": {}
        }, 
        {
            "execution_count": 52, 
            "cell_type": "code", 
            "metadata": {}, 
            "outputs": [
                {
                    "execution_count": 52, 
                    "metadata": {}, 
                    "data": {
                        "text/plain": "S    914\nC    270\nQ    123\nName: Embarked, dtype: int64"
                    }, 
                    "output_type": "execute_result"
                }
            ], 
            "source": "combined_data['Embarked'].value_counts()"
        }, 
        {
            "execution_count": 53, 
            "cell_type": "code", 
            "metadata": {}, 
            "outputs": [
                {
                    "output_type": "stream", 
                    "name": "stdout", 
                    "text": "Number of missing values: 0 on 1309 total\n"
                }
            ], 
            "source": "combined_data['Embarked'].replace(np.nan, 'S', inplace = True)\ncheck_missing_values(combined_data, 'Embarked')"
        }, 
        {
            "source": "Check if it gives useful information.", 
            "cell_type": "markdown", 
            "metadata": {}
        }, 
        {
            "execution_count": 54, 
            "cell_type": "code", 
            "metadata": {}, 
            "outputs": [
                {
                    "output_type": "stream", 
                    "name": "stderr", 
                    "text": "/opt/conda/envs/DSX-Python35/lib/python3.5/site-packages/seaborn/categorical.py:1508: FutureWarning: remove_na is deprecated and is a private function. Do not use.\n  stat_data = remove_na(group_data[hue_mask])\n"
                }, 
                {
                    "execution_count": 54, 
                    "metadata": {}, 
                    "data": {
                        "text/plain": "<matplotlib.axes._subplots.AxesSubplot at 0x7f8f57cc5d68>"
                    }, 
                    "output_type": "execute_result"
                }, 
                {
                    "output_type": "display_data", 
                    "data": {
                        "image/png": "[encoded data removed]", 
                        "text/plain": "<matplotlib.figure.Figure at 0x7f8f57cf92e8>"
                    }, 
                    "metadata": {}
                }
            ], 
            "source": "temp_train_data = get_train_data()\nsns.countplot(data = temp_train_data, x = 'Embarked', hue = 'Survived')"
        }, 
        {
            "source": "Based on normal intuition, it seems like the embarkation won't affect our target. However, the graph shows that people embark in 'S' have smaller change to survive. So let's comeback to this later.", 
            "cell_type": "markdown", 
            "metadata": {}
        }, 
        {
            "source": "# Build a model\n\nEverything is ready. Let's build a model.\nLet's take a look at the preprocessed data:", 
            "cell_type": "markdown", 
            "metadata": {}
        }, 
        {
            "execution_count": 55, 
            "cell_type": "code", 
            "metadata": {}, 
            "outputs": [
                {
                    "execution_count": 55, 
                    "metadata": {}, 
                    "data": {
                        "text/html": "<div>\n<style scoped>\n    .dataframe tbody tr th:only-of-type {\n        vertical-align: middle;\n    }\n\n    .dataframe tbody tr th {\n        vertical-align: top;\n    }\n\n    .dataframe thead th {\n        text-align: right;\n    }\n</style>\n<table border=\"1\" class=\"dataframe\">\n  <thead>\n    <tr style=\"text-align: right;\">\n      <th></th>\n      <th>PassengerId</th>\n      <th>Survived</th>\n      <th>Pclass</th>\n      <th>Name</th>\n      <th>Age</th>\n      <th>SibSp</th>\n      <th>Parch</th>\n      <th>Ticket</th>\n      <th>Fare</th>\n      <th>Cabin</th>\n      <th>Embarked</th>\n      <th>Upper-class</th>\n      <th>Middle-class</th>\n      <th>Lower-class</th>\n      <th>Female</th>\n      <th>Male</th>\n      <th>Children</th>\n      <th>Not children</th>\n    </tr>\n  </thead>\n  <tbody>\n    <tr>\n      <th>0</th>\n      <td>1</td>\n      <td>0</td>\n      <td>3</td>\n      <td>Braund, Mr. Owen Harris</td>\n      <td>22.0</td>\n      <td>1</td>\n      <td>0</td>\n      <td>A/5 21171</td>\n      <td>0.041429</td>\n      <td>NaN</td>\n      <td>S</td>\n      <td>0</td>\n      <td>0</td>\n      <td>1</td>\n      <td>0</td>\n      <td>1</td>\n      <td>0</td>\n      <td>1</td>\n    </tr>\n    <tr>\n      <th>1</th>\n      <td>2</td>\n      <td>1</td>\n      <td>1</td>\n      <td>Cumings, Mrs. John Bradley (Florence Briggs Th...</td>\n      <td>38.0</td>\n      <td>1</td>\n      <td>0</td>\n      <td>PC 17599</td>\n      <td>0.407333</td>\n      <td>C85</td>\n      <td>C</td>\n      <td>1</td>\n      <td>0</td>\n      <td>0</td>\n      <td>1</td>\n      <td>0</td>\n      <td>0</td>\n      <td>1</td>\n    </tr>\n    <tr>\n      <th>2</th>\n      <td>3</td>\n      <td>1</td>\n      <td>3</td>\n      <td>Heikkinen, Miss. Laina</td>\n      <td>26.0</td>\n      <td>0</td>\n      <td>0</td>\n      <td>STON/O2. 3101282</td>\n      <td>0.045286</td>\n      <td>NaN</td>\n      <td>S</td>\n      <td>0</td>\n      <td>0</td>\n      <td>1</td>\n      <td>1</td>\n      <td>0</td>\n      <td>0</td>\n      <td>1</td>\n    </tr>\n    <tr>\n      <th>3</th>\n      <td>4</td>\n      <td>1</td>\n      <td>1</td>\n      <td>Futrelle, Mrs. Jacques Heath (Lily May Peel)</td>\n      <td>35.0</td>\n      <td>1</td>\n      <td>0</td>\n      <td>113803</td>\n      <td>0.303429</td>\n      <td>C123</td>\n      <td>S</td>\n      <td>1</td>\n      <td>0</td>\n      <td>0</td>\n      <td>1</td>\n      <td>0</td>\n      <td>0</td>\n      <td>1</td>\n    </tr>\n    <tr>\n      <th>4</th>\n      <td>5</td>\n      <td>0</td>\n      <td>3</td>\n      <td>Allen, Mr. William Henry</td>\n      <td>35.0</td>\n      <td>0</td>\n      <td>0</td>\n      <td>373450</td>\n      <td>0.046000</td>\n      <td>NaN</td>\n      <td>S</td>\n      <td>0</td>\n      <td>0</td>\n      <td>1</td>\n      <td>0</td>\n      <td>1</td>\n      <td>0</td>\n      <td>1</td>\n    </tr>\n  </tbody>\n</table>\n</div>", 
                        "text/plain": "   PassengerId Survived  Pclass  \\\n0            1        0       3   \n1            2        1       1   \n2            3        1       3   \n3            4        1       1   \n4            5        0       3   \n\n                                                Name   Age  SibSp  Parch  \\\n0                            Braund, Mr. Owen Harris  22.0      1      0   \n1  Cumings, Mrs. John Bradley (Florence Briggs Th...  38.0      1      0   \n2                             Heikkinen, Miss. Laina  26.0      0      0   \n3       Futrelle, Mrs. Jacques Heath (Lily May Peel)  35.0      1      0   \n4                           Allen, Mr. William Henry  35.0      0      0   \n\n             Ticket      Fare Cabin Embarked  Upper-class  Middle-class  \\\n0         A/5 21171  0.041429   NaN        S            0             0   \n1          PC 17599  0.407333   C85        C            1             0   \n2  STON/O2. 3101282  0.045286   NaN        S            0             0   \n3            113803  0.303429  C123        S            1             0   \n4            373450  0.046000   NaN        S            0             0   \n\n   Lower-class  Female  Male  Children  Not children  \n0            1       0     1         0             1  \n1            0       1     0         0             1  \n2            1       1     0         0             1  \n3            0       1     0         0             1  \n4            1       0     1         0             1  "
                    }, 
                    "output_type": "execute_result"
                }
            ], 
            "source": "combined_data.head()"
        }, 
        {
            "execution_count": 56, 
            "cell_type": "code", 
            "metadata": {}, 
            "outputs": [
                {
                    "execution_count": 56, 
                    "metadata": {}, 
                    "data": {
                        "text/html": "<div>\n<style scoped>\n    .dataframe tbody tr th:only-of-type {\n        vertical-align: middle;\n    }\n\n    .dataframe tbody tr th {\n        vertical-align: top;\n    }\n\n    .dataframe thead th {\n        text-align: right;\n    }\n</style>\n<table border=\"1\" class=\"dataframe\">\n  <thead>\n    <tr style=\"text-align: right;\">\n      <th></th>\n      <th>PassengerId</th>\n      <th>Pclass</th>\n      <th>Age</th>\n      <th>SibSp</th>\n      <th>Parch</th>\n      <th>Fare</th>\n      <th>Upper-class</th>\n      <th>Middle-class</th>\n      <th>Lower-class</th>\n      <th>Female</th>\n      <th>Male</th>\n      <th>Children</th>\n      <th>Not children</th>\n    </tr>\n  </thead>\n  <tbody>\n    <tr>\n      <th>count</th>\n      <td>1309.000000</td>\n      <td>1309.000000</td>\n      <td>1309.000000</td>\n      <td>1309.000000</td>\n      <td>1309.000000</td>\n      <td>1309.000000</td>\n      <td>1309.000000</td>\n      <td>1309.000000</td>\n      <td>1309.000000</td>\n      <td>1309.000000</td>\n      <td>1309.000000</td>\n      <td>1309.000000</td>\n      <td>1309.000000</td>\n    </tr>\n    <tr>\n      <th>mean</th>\n      <td>655.000000</td>\n      <td>2.294882</td>\n      <td>23.877517</td>\n      <td>0.466769</td>\n      <td>0.357525</td>\n      <td>0.174963</td>\n      <td>0.246753</td>\n      <td>0.211612</td>\n      <td>0.541635</td>\n      <td>0.355997</td>\n      <td>0.644003</td>\n      <td>0.102368</td>\n      <td>0.897632</td>\n    </tr>\n    <tr>\n      <th>std</th>\n      <td>378.020061</td>\n      <td>0.837836</td>\n      <td>17.590845</td>\n      <td>0.862843</td>\n      <td>0.716066</td>\n      <td>0.217769</td>\n      <td>0.431287</td>\n      <td>0.408607</td>\n      <td>0.498454</td>\n      <td>0.478997</td>\n      <td>0.478997</td>\n      <td>0.303248</td>\n      <td>0.303248</td>\n    </tr>\n    <tr>\n      <th>min</th>\n      <td>1.000000</td>\n      <td>1.000000</td>\n      <td>0.000000</td>\n      <td>0.000000</td>\n      <td>0.000000</td>\n      <td>0.000000</td>\n      <td>0.000000</td>\n      <td>0.000000</td>\n      <td>0.000000</td>\n      <td>0.000000</td>\n      <td>0.000000</td>\n      <td>0.000000</td>\n      <td>0.000000</td>\n    </tr>\n    <tr>\n      <th>25%</th>\n      <td>328.000000</td>\n      <td>2.000000</td>\n      <td>7.000000</td>\n      <td>0.000000</td>\n      <td>0.000000</td>\n      <td>0.045119</td>\n      <td>0.000000</td>\n      <td>0.000000</td>\n      <td>0.000000</td>\n      <td>0.000000</td>\n      <td>0.000000</td>\n      <td>0.000000</td>\n      <td>1.000000</td>\n    </tr>\n    <tr>\n      <th>50%</th>\n      <td>655.000000</td>\n      <td>3.000000</td>\n      <td>24.000000</td>\n      <td>0.000000</td>\n      <td>0.000000</td>\n      <td>0.082595</td>\n      <td>0.000000</td>\n      <td>0.000000</td>\n      <td>1.000000</td>\n      <td>0.000000</td>\n      <td>1.000000</td>\n      <td>0.000000</td>\n      <td>1.000000</td>\n    </tr>\n    <tr>\n      <th>75%</th>\n      <td>982.000000</td>\n      <td>3.000000</td>\n      <td>35.000000</td>\n      <td>1.000000</td>\n      <td>0.000000</td>\n      <td>0.178714</td>\n      <td>0.000000</td>\n      <td>0.000000</td>\n      <td>1.000000</td>\n      <td>1.000000</td>\n      <td>1.000000</td>\n      <td>0.000000</td>\n      <td>1.000000</td>\n    </tr>\n    <tr>\n      <th>max</th>\n      <td>1309.000000</td>\n      <td>3.000000</td>\n      <td>80.000000</td>\n      <td>4.000000</td>\n      <td>3.000000</td>\n      <td>1.000000</td>\n      <td>1.000000</td>\n      <td>1.000000</td>\n      <td>1.000000</td>\n      <td>1.000000</td>\n      <td>1.000000</td>\n      <td>1.000000</td>\n      <td>1.000000</td>\n    </tr>\n  </tbody>\n</table>\n</div>", 
                        "text/plain": "       PassengerId       Pclass          Age        SibSp        Parch  \\\ncount  1309.000000  1309.000000  1309.000000  1309.000000  1309.000000   \nmean    655.000000     2.294882    23.877517     0.466769     0.357525   \nstd     378.020061     0.837836    17.590845     0.862843     0.716066   \nmin       1.000000     1.000000     0.000000     0.000000     0.000000   \n25%     328.000000     2.000000     7.000000     0.000000     0.000000   \n50%     655.000000     3.000000    24.000000     0.000000     0.000000   \n75%     982.000000     3.000000    35.000000     1.000000     0.000000   \nmax    1309.000000     3.000000    80.000000     4.000000     3.000000   \n\n              Fare  Upper-class  Middle-class  Lower-class       Female  \\\ncount  1309.000000  1309.000000   1309.000000  1309.000000  1309.000000   \nmean      0.174963     0.246753      0.211612     0.541635     0.355997   \nstd       0.217769     0.431287      0.408607     0.498454     0.478997   \nmin       0.000000     0.000000      0.000000     0.000000     0.000000   \n25%       0.045119     0.000000      0.000000     0.000000     0.000000   \n50%       0.082595     0.000000      0.000000     1.000000     0.000000   \n75%       0.178714     0.000000      0.000000     1.000000     1.000000   \nmax       1.000000     1.000000      1.000000     1.000000     1.000000   \n\n              Male     Children  Not children  \ncount  1309.000000  1309.000000   1309.000000  \nmean      0.644003     0.102368      0.897632  \nstd       0.478997     0.303248      0.303248  \nmin       0.000000     0.000000      0.000000  \n25%       0.000000     0.000000      1.000000  \n50%       1.000000     0.000000      1.000000  \n75%       1.000000     0.000000      1.000000  \nmax       1.000000     1.000000      1.000000  "
                    }, 
                    "output_type": "execute_result"
                }
            ], 
            "source": "combined_data.describe()"
        }, 
        {
            "execution_count": 57, 
            "cell_type": "code", 
            "metadata": {}, 
            "outputs": [], 
            "source": "# Makes a list of features that we will use\nfeatures = ['Fare', 'Upper-class', 'Middle-class', 'Lower-class', 'Female', 'Male', 'Children', 'Not children']"
        }, 
        {
            "execution_count": 58, 
            "cell_type": "code", 
            "metadata": {}, 
            "outputs": [], 
            "source": "# Creates a linear regression model\nfrom sklearn.linear_model import LinearRegression\nfrom sklearn.model_selection import train_test_split\nfrom sklearn import metrics\nlr = LinearRegression()"
        }, 
        {
            "execution_count": 59, 
            "cell_type": "code", 
            "metadata": {}, 
            "outputs": [
                {
                    "execution_count": 59, 
                    "metadata": {}, 
                    "data": {
                        "text/html": "<div>\n<style scoped>\n    .dataframe tbody tr th:only-of-type {\n        vertical-align: middle;\n    }\n\n    .dataframe tbody tr th {\n        vertical-align: top;\n    }\n\n    .dataframe thead th {\n        text-align: right;\n    }\n</style>\n<table border=\"1\" class=\"dataframe\">\n  <thead>\n    <tr style=\"text-align: right;\">\n      <th></th>\n      <th>PassengerId</th>\n      <th>Survived</th>\n      <th>Pclass</th>\n      <th>Name</th>\n      <th>Age</th>\n      <th>SibSp</th>\n      <th>Parch</th>\n      <th>Ticket</th>\n      <th>Fare</th>\n      <th>Cabin</th>\n      <th>Embarked</th>\n      <th>Upper-class</th>\n      <th>Middle-class</th>\n      <th>Lower-class</th>\n      <th>Female</th>\n      <th>Male</th>\n      <th>Children</th>\n      <th>Not children</th>\n    </tr>\n  </thead>\n  <tbody>\n    <tr>\n      <th>0</th>\n      <td>1</td>\n      <td>0</td>\n      <td>3</td>\n      <td>Braund, Mr. Owen Harris</td>\n      <td>22.0</td>\n      <td>1</td>\n      <td>0</td>\n      <td>A/5 21171</td>\n      <td>0.041429</td>\n      <td>NaN</td>\n      <td>S</td>\n      <td>0</td>\n      <td>0</td>\n      <td>1</td>\n      <td>0</td>\n      <td>1</td>\n      <td>0</td>\n      <td>1</td>\n    </tr>\n    <tr>\n      <th>1</th>\n      <td>2</td>\n      <td>1</td>\n      <td>1</td>\n      <td>Cumings, Mrs. John Bradley (Florence Briggs Th...</td>\n      <td>38.0</td>\n      <td>1</td>\n      <td>0</td>\n      <td>PC 17599</td>\n      <td>0.407333</td>\n      <td>C85</td>\n      <td>C</td>\n      <td>1</td>\n      <td>0</td>\n      <td>0</td>\n      <td>1</td>\n      <td>0</td>\n      <td>0</td>\n      <td>1</td>\n    </tr>\n    <tr>\n      <th>2</th>\n      <td>3</td>\n      <td>1</td>\n      <td>3</td>\n      <td>Heikkinen, Miss. Laina</td>\n      <td>26.0</td>\n      <td>0</td>\n      <td>0</td>\n      <td>STON/O2. 3101282</td>\n      <td>0.045286</td>\n      <td>NaN</td>\n      <td>S</td>\n      <td>0</td>\n      <td>0</td>\n      <td>1</td>\n      <td>1</td>\n      <td>0</td>\n      <td>0</td>\n      <td>1</td>\n    </tr>\n    <tr>\n      <th>3</th>\n      <td>4</td>\n      <td>1</td>\n      <td>1</td>\n      <td>Futrelle, Mrs. Jacques Heath (Lily May Peel)</td>\n      <td>35.0</td>\n      <td>1</td>\n      <td>0</td>\n      <td>113803</td>\n      <td>0.303429</td>\n      <td>C123</td>\n      <td>S</td>\n      <td>1</td>\n      <td>0</td>\n      <td>0</td>\n      <td>1</td>\n      <td>0</td>\n      <td>0</td>\n      <td>1</td>\n    </tr>\n    <tr>\n      <th>4</th>\n      <td>5</td>\n      <td>0</td>\n      <td>3</td>\n      <td>Allen, Mr. William Henry</td>\n      <td>35.0</td>\n      <td>0</td>\n      <td>0</td>\n      <td>373450</td>\n      <td>0.046000</td>\n      <td>NaN</td>\n      <td>S</td>\n      <td>0</td>\n      <td>0</td>\n      <td>1</td>\n      <td>0</td>\n      <td>1</td>\n      <td>0</td>\n      <td>1</td>\n    </tr>\n  </tbody>\n</table>\n</div>", 
                        "text/plain": "   PassengerId Survived  Pclass  \\\n0            1        0       3   \n1            2        1       1   \n2            3        1       3   \n3            4        1       1   \n4            5        0       3   \n\n                                                Name   Age  SibSp  Parch  \\\n0                            Braund, Mr. Owen Harris  22.0      1      0   \n1  Cumings, Mrs. John Bradley (Florence Briggs Th...  38.0      1      0   \n2                             Heikkinen, Miss. Laina  26.0      0      0   \n3       Futrelle, Mrs. Jacques Heath (Lily May Peel)  35.0      1      0   \n4                           Allen, Mr. William Henry  35.0      0      0   \n\n             Ticket      Fare Cabin Embarked  Upper-class  Middle-class  \\\n0         A/5 21171  0.041429   NaN        S            0             0   \n1          PC 17599  0.407333   C85        C            1             0   \n2  STON/O2. 3101282  0.045286   NaN        S            0             0   \n3            113803  0.303429  C123        S            1             0   \n4            373450  0.046000   NaN        S            0             0   \n\n   Lower-class  Female  Male  Children  Not children  \n0            1       0     1         0             1  \n1            0       1     0         0             1  \n2            1       1     0         0             1  \n3            0       1     0         0             1  \n4            1       0     1         0             1  "
                    }, 
                    "output_type": "execute_result"
                }
            ], 
            "source": "# Gets the train data and test data that we have preocessed\nuse_train_data = get_train_data()\nuse_train_data.head()"
        }, 
        {
            "execution_count": 60, 
            "cell_type": "code", 
            "metadata": {}, 
            "outputs": [
                {
                    "execution_count": 60, 
                    "metadata": {}, 
                    "data": {
                        "text/plain": "PassengerId       int64\nSurvived         object\nPclass            int64\nName             object\nAge             float64\nSibSp             int64\nParch             int64\nTicket           object\nFare            float64\nCabin            object\nEmbarked         object\nUpper-class       uint8\nMiddle-class      uint8\nLower-class       uint8\nFemale            uint8\nMale              uint8\nChildren          uint8\nNot children      uint8\ndtype: object"
                    }, 
                    "output_type": "execute_result"
                }
            ], 
            "source": "use_train_data.dtypes"
        }, 
        {
            "execution_count": 61, 
            "cell_type": "code", 
            "metadata": {}, 
            "outputs": [
                {
                    "output_type": "stream", 
                    "name": "stderr", 
                    "text": "/opt/conda/envs/DSX-Python35/lib/python3.5/site-packages/ipykernel/__main__.py:1: SettingWithCopyWarning: \nA value is trying to be set on a copy of a slice from a DataFrame.\nTry using .loc[row_indexer,col_indexer] = value instead\n\nSee the caveats in the documentation: http://pandas.pydata.org/pandas-docs/stable/indexing.html#indexing-view-versus-copy\n  if __name__ == '__main__':\n"
                }
            ], 
            "source": "use_train_data['Survived'] = pd.to_numeric(use_train_data['Survived'])"
        }, 
        {
            "execution_count": 62, 
            "cell_type": "code", 
            "metadata": {}, 
            "outputs": [
                {
                    "execution_count": 62, 
                    "metadata": {}, 
                    "data": {
                        "text/html": "<div>\n<style scoped>\n    .dataframe tbody tr th:only-of-type {\n        vertical-align: middle;\n    }\n\n    .dataframe tbody tr th {\n        vertical-align: top;\n    }\n\n    .dataframe thead th {\n        text-align: right;\n    }\n</style>\n<table border=\"1\" class=\"dataframe\">\n  <thead>\n    <tr style=\"text-align: right;\">\n      <th></th>\n      <th>PassengerId</th>\n      <th>Survived</th>\n      <th>Pclass</th>\n      <th>Name</th>\n      <th>Age</th>\n      <th>SibSp</th>\n      <th>Parch</th>\n      <th>Ticket</th>\n      <th>Fare</th>\n      <th>Cabin</th>\n      <th>Embarked</th>\n      <th>Upper-class</th>\n      <th>Middle-class</th>\n      <th>Lower-class</th>\n      <th>Female</th>\n      <th>Male</th>\n      <th>Children</th>\n      <th>Not children</th>\n    </tr>\n  </thead>\n  <tbody>\n    <tr>\n      <th>0</th>\n      <td>892</td>\n      <td>None</td>\n      <td>3</td>\n      <td>Kelly, Mr. James</td>\n      <td>34.5</td>\n      <td>0</td>\n      <td>0</td>\n      <td>330911</td>\n      <td>0.044738</td>\n      <td>NaN</td>\n      <td>Q</td>\n      <td>0</td>\n      <td>0</td>\n      <td>1</td>\n      <td>0</td>\n      <td>1</td>\n      <td>0</td>\n      <td>1</td>\n    </tr>\n    <tr>\n      <th>1</th>\n      <td>893</td>\n      <td>None</td>\n      <td>3</td>\n      <td>Wilkes, Mrs. James (Ellen Needs)</td>\n      <td>47.0</td>\n      <td>1</td>\n      <td>0</td>\n      <td>363272</td>\n      <td>0.040000</td>\n      <td>NaN</td>\n      <td>S</td>\n      <td>0</td>\n      <td>0</td>\n      <td>1</td>\n      <td>1</td>\n      <td>0</td>\n      <td>0</td>\n      <td>1</td>\n    </tr>\n    <tr>\n      <th>2</th>\n      <td>894</td>\n      <td>None</td>\n      <td>2</td>\n      <td>Myles, Mr. Thomas Francis</td>\n      <td>62.0</td>\n      <td>0</td>\n      <td>0</td>\n      <td>240276</td>\n      <td>0.055357</td>\n      <td>NaN</td>\n      <td>Q</td>\n      <td>0</td>\n      <td>1</td>\n      <td>0</td>\n      <td>0</td>\n      <td>1</td>\n      <td>0</td>\n      <td>1</td>\n    </tr>\n    <tr>\n      <th>3</th>\n      <td>895</td>\n      <td>None</td>\n      <td>3</td>\n      <td>Wirz, Mr. Albert</td>\n      <td>27.0</td>\n      <td>0</td>\n      <td>0</td>\n      <td>315154</td>\n      <td>0.049500</td>\n      <td>NaN</td>\n      <td>S</td>\n      <td>0</td>\n      <td>0</td>\n      <td>1</td>\n      <td>0</td>\n      <td>1</td>\n      <td>0</td>\n      <td>1</td>\n    </tr>\n    <tr>\n      <th>4</th>\n      <td>896</td>\n      <td>None</td>\n      <td>3</td>\n      <td>Hirvonen, Mrs. Alexander (Helga E Lindqvist)</td>\n      <td>22.0</td>\n      <td>1</td>\n      <td>1</td>\n      <td>3101298</td>\n      <td>0.070214</td>\n      <td>NaN</td>\n      <td>S</td>\n      <td>0</td>\n      <td>0</td>\n      <td>1</td>\n      <td>1</td>\n      <td>0</td>\n      <td>0</td>\n      <td>1</td>\n    </tr>\n  </tbody>\n</table>\n</div>", 
                        "text/plain": "   PassengerId Survived  Pclass                                          Name  \\\n0          892     None       3                              Kelly, Mr. James   \n1          893     None       3              Wilkes, Mrs. James (Ellen Needs)   \n2          894     None       2                     Myles, Mr. Thomas Francis   \n3          895     None       3                              Wirz, Mr. Albert   \n4          896     None       3  Hirvonen, Mrs. Alexander (Helga E Lindqvist)   \n\n    Age  SibSp  Parch   Ticket      Fare Cabin Embarked  Upper-class  \\\n0  34.5      0      0   330911  0.044738   NaN        Q            0   \n1  47.0      1      0   363272  0.040000   NaN        S            0   \n2  62.0      0      0   240276  0.055357   NaN        Q            0   \n3  27.0      0      0   315154  0.049500   NaN        S            0   \n4  22.0      1      1  3101298  0.070214   NaN        S            0   \n\n   Middle-class  Lower-class  Female  Male  Children  Not children  \n0             0            1       0     1         0             1  \n1             0            1       1     0         0             1  \n2             1            0       0     1         0             1  \n3             0            1       0     1         0             1  \n4             0            1       1     0         0             1  "
                    }, 
                    "output_type": "execute_result"
                }
            ], 
            "source": "use_test_data = get_test_data()\nuse_test_data.head()"
        }, 
        {
            "execution_count": 63, 
            "cell_type": "code", 
            "metadata": {}, 
            "outputs": [], 
            "source": "# Splits the train data into two parts\nX_train, X_test, y_train, y_test = train_test_split(use_train_data[features], use_train_data[['Survived']], test_size = 0.15, random_state = 0)"
        }, 
        {
            "execution_count": 64, 
            "cell_type": "code", 
            "metadata": {}, 
            "outputs": [
                {
                    "execution_count": 64, 
                    "metadata": {}, 
                    "data": {
                        "text/html": "<div>\n<style scoped>\n    .dataframe tbody tr th:only-of-type {\n        vertical-align: middle;\n    }\n\n    .dataframe tbody tr th {\n        vertical-align: top;\n    }\n\n    .dataframe thead th {\n        text-align: right;\n    }\n</style>\n<table border=\"1\" class=\"dataframe\">\n  <thead>\n    <tr style=\"text-align: right;\">\n      <th></th>\n      <th>Fare</th>\n      <th>Upper-class</th>\n      <th>Middle-class</th>\n      <th>Lower-class</th>\n      <th>Female</th>\n      <th>Male</th>\n      <th>Children</th>\n      <th>Not children</th>\n    </tr>\n  </thead>\n  <tbody>\n    <tr>\n      <th>count</th>\n      <td>757.000000</td>\n      <td>757.000000</td>\n      <td>757.000000</td>\n      <td>757.000000</td>\n      <td>757.000000</td>\n      <td>757.000000</td>\n      <td>757.000000</td>\n      <td>757.000000</td>\n    </tr>\n    <tr>\n      <th>mean</th>\n      <td>0.166037</td>\n      <td>0.233818</td>\n      <td>0.204756</td>\n      <td>0.561427</td>\n      <td>0.350066</td>\n      <td>0.649934</td>\n      <td>0.110964</td>\n      <td>0.889036</td>\n    </tr>\n    <tr>\n      <th>std</th>\n      <td>0.202307</td>\n      <td>0.423537</td>\n      <td>0.403790</td>\n      <td>0.496540</td>\n      <td>0.477306</td>\n      <td>0.477306</td>\n      <td>0.314296</td>\n      <td>0.314296</td>\n    </tr>\n    <tr>\n      <th>min</th>\n      <td>0.000000</td>\n      <td>0.000000</td>\n      <td>0.000000</td>\n      <td>0.000000</td>\n      <td>0.000000</td>\n      <td>0.000000</td>\n      <td>0.000000</td>\n      <td>0.000000</td>\n    </tr>\n    <tr>\n      <th>25%</th>\n      <td>0.045119</td>\n      <td>0.000000</td>\n      <td>0.000000</td>\n      <td>0.000000</td>\n      <td>0.000000</td>\n      <td>0.000000</td>\n      <td>0.000000</td>\n      <td>1.000000</td>\n    </tr>\n    <tr>\n      <th>50%</th>\n      <td>0.080619</td>\n      <td>0.000000</td>\n      <td>0.000000</td>\n      <td>1.000000</td>\n      <td>0.000000</td>\n      <td>1.000000</td>\n      <td>0.000000</td>\n      <td>1.000000</td>\n    </tr>\n    <tr>\n      <th>75%</th>\n      <td>0.175405</td>\n      <td>0.000000</td>\n      <td>0.000000</td>\n      <td>1.000000</td>\n      <td>1.000000</td>\n      <td>1.000000</td>\n      <td>0.000000</td>\n      <td>1.000000</td>\n    </tr>\n    <tr>\n      <th>max</th>\n      <td>1.000000</td>\n      <td>1.000000</td>\n      <td>1.000000</td>\n      <td>1.000000</td>\n      <td>1.000000</td>\n      <td>1.000000</td>\n      <td>1.000000</td>\n      <td>1.000000</td>\n    </tr>\n  </tbody>\n</table>\n</div>", 
                        "text/plain": "             Fare  Upper-class  Middle-class  Lower-class      Female  \\\ncount  757.000000   757.000000    757.000000   757.000000  757.000000   \nmean     0.166037     0.233818      0.204756     0.561427    0.350066   \nstd      0.202307     0.423537      0.403790     0.496540    0.477306   \nmin      0.000000     0.000000      0.000000     0.000000    0.000000   \n25%      0.045119     0.000000      0.000000     0.000000    0.000000   \n50%      0.080619     0.000000      0.000000     1.000000    0.000000   \n75%      0.175405     0.000000      0.000000     1.000000    1.000000   \nmax      1.000000     1.000000      1.000000     1.000000    1.000000   \n\n             Male    Children  Not children  \ncount  757.000000  757.000000    757.000000  \nmean     0.649934    0.110964      0.889036  \nstd      0.477306    0.314296      0.314296  \nmin      0.000000    0.000000      0.000000  \n25%      0.000000    0.000000      1.000000  \n50%      1.000000    0.000000      1.000000  \n75%      1.000000    0.000000      1.000000  \nmax      1.000000    1.000000      1.000000  "
                    }, 
                    "output_type": "execute_result"
                }
            ], 
            "source": "X_train.describe()"
        }, 
        {
            "execution_count": 65, 
            "cell_type": "code", 
            "metadata": {}, 
            "outputs": [
                {
                    "execution_count": 65, 
                    "metadata": {}, 
                    "data": {
                        "text/html": "<div>\n<style scoped>\n    .dataframe tbody tr th:only-of-type {\n        vertical-align: middle;\n    }\n\n    .dataframe tbody tr th {\n        vertical-align: top;\n    }\n\n    .dataframe thead th {\n        text-align: right;\n    }\n</style>\n<table border=\"1\" class=\"dataframe\">\n  <thead>\n    <tr style=\"text-align: right;\">\n      <th></th>\n      <th>Fare</th>\n      <th>Upper-class</th>\n      <th>Middle-class</th>\n      <th>Lower-class</th>\n      <th>Female</th>\n      <th>Male</th>\n      <th>Children</th>\n      <th>Not children</th>\n    </tr>\n  </thead>\n  <tbody>\n    <tr>\n      <th>count</th>\n      <td>134.000000</td>\n      <td>134.000000</td>\n      <td>134.000000</td>\n      <td>134.000000</td>\n      <td>134.000000</td>\n      <td>134.000000</td>\n      <td>134.000000</td>\n      <td>134.000000</td>\n    </tr>\n    <tr>\n      <th>mean</th>\n      <td>0.196674</td>\n      <td>0.291045</td>\n      <td>0.216418</td>\n      <td>0.492537</td>\n      <td>0.365672</td>\n      <td>0.634328</td>\n      <td>0.119403</td>\n      <td>0.880597</td>\n    </tr>\n    <tr>\n      <th>std</th>\n      <td>0.237426</td>\n      <td>0.455949</td>\n      <td>0.413348</td>\n      <td>0.501820</td>\n      <td>0.483425</td>\n      <td>0.483425</td>\n      <td>0.325479</td>\n      <td>0.325479</td>\n    </tr>\n    <tr>\n      <th>min</th>\n      <td>0.000000</td>\n      <td>0.000000</td>\n      <td>0.000000</td>\n      <td>0.000000</td>\n      <td>0.000000</td>\n      <td>0.000000</td>\n      <td>0.000000</td>\n      <td>0.000000</td>\n    </tr>\n    <tr>\n      <th>25%</th>\n      <td>0.046000</td>\n      <td>0.000000</td>\n      <td>0.000000</td>\n      <td>0.000000</td>\n      <td>0.000000</td>\n      <td>0.000000</td>\n      <td>0.000000</td>\n      <td>1.000000</td>\n    </tr>\n    <tr>\n      <th>50%</th>\n      <td>0.103286</td>\n      <td>0.000000</td>\n      <td>0.000000</td>\n      <td>0.000000</td>\n      <td>0.000000</td>\n      <td>1.000000</td>\n      <td>0.000000</td>\n      <td>1.000000</td>\n    </tr>\n    <tr>\n      <th>75%</th>\n      <td>0.199286</td>\n      <td>1.000000</td>\n      <td>0.000000</td>\n      <td>1.000000</td>\n      <td>1.000000</td>\n      <td>1.000000</td>\n      <td>0.000000</td>\n      <td>1.000000</td>\n    </tr>\n    <tr>\n      <th>max</th>\n      <td>1.000000</td>\n      <td>1.000000</td>\n      <td>1.000000</td>\n      <td>1.000000</td>\n      <td>1.000000</td>\n      <td>1.000000</td>\n      <td>1.000000</td>\n      <td>1.000000</td>\n    </tr>\n  </tbody>\n</table>\n</div>", 
                        "text/plain": "             Fare  Upper-class  Middle-class  Lower-class      Female  \\\ncount  134.000000   134.000000    134.000000   134.000000  134.000000   \nmean     0.196674     0.291045      0.216418     0.492537    0.365672   \nstd      0.237426     0.455949      0.413348     0.501820    0.483425   \nmin      0.000000     0.000000      0.000000     0.000000    0.000000   \n25%      0.046000     0.000000      0.000000     0.000000    0.000000   \n50%      0.103286     0.000000      0.000000     0.000000    0.000000   \n75%      0.199286     1.000000      0.000000     1.000000    1.000000   \nmax      1.000000     1.000000      1.000000     1.000000    1.000000   \n\n             Male    Children  Not children  \ncount  134.000000  134.000000    134.000000  \nmean     0.634328    0.119403      0.880597  \nstd      0.483425    0.325479      0.325479  \nmin      0.000000    0.000000      0.000000  \n25%      0.000000    0.000000      1.000000  \n50%      1.000000    0.000000      1.000000  \n75%      1.000000    0.000000      1.000000  \nmax      1.000000    1.000000      1.000000  "
                    }, 
                    "output_type": "execute_result"
                }
            ], 
            "source": "X_test.describe()"
        }, 
        {
            "execution_count": 66, 
            "cell_type": "code", 
            "metadata": {}, 
            "outputs": [
                {
                    "execution_count": 66, 
                    "metadata": {}, 
                    "data": {
                        "text/html": "<div>\n<style scoped>\n    .dataframe tbody tr th:only-of-type {\n        vertical-align: middle;\n    }\n\n    .dataframe tbody tr th {\n        vertical-align: top;\n    }\n\n    .dataframe thead th {\n        text-align: right;\n    }\n</style>\n<table border=\"1\" class=\"dataframe\">\n  <thead>\n    <tr style=\"text-align: right;\">\n      <th></th>\n      <th>Survived</th>\n    </tr>\n  </thead>\n  <tbody>\n    <tr>\n      <th>count</th>\n      <td>757.000000</td>\n    </tr>\n    <tr>\n      <th>mean</th>\n      <td>0.379128</td>\n    </tr>\n    <tr>\n      <th>std</th>\n      <td>0.485491</td>\n    </tr>\n    <tr>\n      <th>min</th>\n      <td>0.000000</td>\n    </tr>\n    <tr>\n      <th>25%</th>\n      <td>0.000000</td>\n    </tr>\n    <tr>\n      <th>50%</th>\n      <td>0.000000</td>\n    </tr>\n    <tr>\n      <th>75%</th>\n      <td>1.000000</td>\n    </tr>\n    <tr>\n      <th>max</th>\n      <td>1.000000</td>\n    </tr>\n  </tbody>\n</table>\n</div>", 
                        "text/plain": "         Survived\ncount  757.000000\nmean     0.379128\nstd      0.485491\nmin      0.000000\n25%      0.000000\n50%      0.000000\n75%      1.000000\nmax      1.000000"
                    }, 
                    "output_type": "execute_result"
                }
            ], 
            "source": "y_train.describe()"
        }, 
        {
            "execution_count": 67, 
            "cell_type": "code", 
            "metadata": {}, 
            "outputs": [
                {
                    "execution_count": 67, 
                    "metadata": {}, 
                    "data": {
                        "text/html": "<div>\n<style scoped>\n    .dataframe tbody tr th:only-of-type {\n        vertical-align: middle;\n    }\n\n    .dataframe tbody tr th {\n        vertical-align: top;\n    }\n\n    .dataframe thead th {\n        text-align: right;\n    }\n</style>\n<table border=\"1\" class=\"dataframe\">\n  <thead>\n    <tr style=\"text-align: right;\">\n      <th></th>\n      <th>Survived</th>\n    </tr>\n  </thead>\n  <tbody>\n    <tr>\n      <th>count</th>\n      <td>134.000000</td>\n    </tr>\n    <tr>\n      <th>mean</th>\n      <td>0.410448</td>\n    </tr>\n    <tr>\n      <th>std</th>\n      <td>0.493761</td>\n    </tr>\n    <tr>\n      <th>min</th>\n      <td>0.000000</td>\n    </tr>\n    <tr>\n      <th>25%</th>\n      <td>0.000000</td>\n    </tr>\n    <tr>\n      <th>50%</th>\n      <td>0.000000</td>\n    </tr>\n    <tr>\n      <th>75%</th>\n      <td>1.000000</td>\n    </tr>\n    <tr>\n      <th>max</th>\n      <td>1.000000</td>\n    </tr>\n  </tbody>\n</table>\n</div>", 
                        "text/plain": "         Survived\ncount  134.000000\nmean     0.410448\nstd      0.493761\nmin      0.000000\n25%      0.000000\n50%      0.000000\n75%      1.000000\nmax      1.000000"
                    }, 
                    "output_type": "execute_result"
                }
            ], 
            "source": "y_test.describe()"
        }, 
        {
            "execution_count": 68, 
            "cell_type": "code", 
            "metadata": {}, 
            "outputs": [
                {
                    "execution_count": 68, 
                    "metadata": {}, 
                    "data": {
                        "text/plain": "LinearRegression(copy_X=True, fit_intercept=True, n_jobs=1, normalize=False)"
                    }, 
                    "output_type": "execute_result"
                }
            ], 
            "source": "lr.fit(X_train, y_train)"
        }, 
        {
            "execution_count": 69, 
            "cell_type": "code", 
            "metadata": {}, 
            "outputs": [
                {
                    "execution_count": 69, 
                    "metadata": {}, 
                    "data": {
                        "text/plain": "0.38789029614451997"
                    }, 
                    "output_type": "execute_result"
                }
            ], 
            "source": "lr.score(X_test, y_test)"
        }, 
        {
            "execution_count": 93, 
            "cell_type": "code", 
            "metadata": {}, 
            "outputs": [], 
            "source": "test_model_predictions = lr.predict(X_test)\nthreshold = 0.5\ntest_model_predictions = test_model_predictions >= threshold"
        }, 
        {
            "execution_count": 94, 
            "cell_type": "code", 
            "metadata": {}, 
            "outputs": [
                {
                    "execution_count": 94, 
                    "metadata": {}, 
                    "data": {
                        "text/plain": "0.77611940298507465"
                    }, 
                    "output_type": "execute_result"
                }
            ], 
            "source": "metrics.accuracy_score(test_model_predictions, y_test)"
        }, 
        {
            "execution_count": 96, 
            "cell_type": "code", 
            "metadata": {}, 
            "outputs": [
                {
                    "execution_count": 96, 
                    "metadata": {}, 
                    "data": {
                        "text/plain": "LinearRegression(copy_X=True, fit_intercept=True, n_jobs=1, normalize=False)"
                    }, 
                    "output_type": "execute_result"
                }
            ], 
            "source": "lr.fit(use_train_data[features], use_train_data['Survived'])"
        }, 
        {
            "execution_count": 118, 
            "cell_type": "code", 
            "metadata": {}, 
            "outputs": [
                {
                    "execution_count": 118, 
                    "metadata": {}, 
                    "data": {
                        "text/html": "<div>\n<style scoped>\n    .dataframe tbody tr th:only-of-type {\n        vertical-align: middle;\n    }\n\n    .dataframe tbody tr th {\n        vertical-align: top;\n    }\n\n    .dataframe thead th {\n        text-align: right;\n    }\n</style>\n<table border=\"1\" class=\"dataframe\">\n  <thead>\n    <tr style=\"text-align: right;\">\n      <th></th>\n      <th>PassengerId</th>\n      <th>Survived</th>\n    </tr>\n  </thead>\n  <tbody>\n    <tr>\n      <th>0</th>\n      <td>892</td>\n      <td>0</td>\n    </tr>\n    <tr>\n      <th>1</th>\n      <td>893</td>\n      <td>1</td>\n    </tr>\n    <tr>\n      <th>2</th>\n      <td>894</td>\n      <td>0</td>\n    </tr>\n    <tr>\n      <th>3</th>\n      <td>895</td>\n      <td>0</td>\n    </tr>\n    <tr>\n      <th>4</th>\n      <td>896</td>\n      <td>1</td>\n    </tr>\n  </tbody>\n</table>\n</div>", 
                        "text/plain": "   PassengerId  Survived\n0          892         0\n1          893         1\n2          894         0\n3          895         0\n4          896         1"
                    }, 
                    "output_type": "execute_result"
                }
            ], 
            "source": "X_predict = use_test_data[features]\ny_predictions = lr.predict(X_predict)\ny_predictions = y_predictions >= threshold\nsth = []\nfor i in range(0, len(y_predictions)):\n    if y_predictions[i]:\n        sth.append(1)\n    else:\n        sth.append(0)\n\nanswer = pd.DataFrame()\nanswer['PassengerId'] = use_test_data['PassengerId'].copy()\nanswer['Survived'] = sth\n\nanswer.head()"
        }, 
        {
            "execution_count": 119, 
            "cell_type": "code", 
            "metadata": {}, 
            "outputs": [
                {
                    "execution_count": 119, 
                    "metadata": {}, 
                    "data": {
                        "text/html": "<a download=\"my_submission.csv\" href=\"data:text/csv;base64,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\" target=\"_blank\">Download CSV file</a>", 
                        "text/plain": "<IPython.core.display.HTML object>"
                    }, 
                    "output_type": "execute_result"
                }
            ], 
            "source": "from IPython.display import HTML\nimport base64\n\ndef create_download_link( df, title = \"Download CSV file\", filename = \"my_submission.csv\"):  \n    csv = df.to_csv(index = False)\n    b64 = base64.b64encode(csv.encode())\n    payload = b64.decode()\n    html = '<a download=\"{filename}\" href=\"data:text/csv;base64,{payload}\" target=\"_blank\">{title}</a>'\n    html = html.format(payload=payload,title=title,filename=filename)\n    return HTML(html)\n\ncreate_download_link(answer)"
        }
    ], 
    "metadata": {
        "kernelspec": {
            "display_name": "Python 3.5", 
            "name": "python3", 
            "language": "python"
        }, 
        "language_info": {
            "mimetype": "text/x-python", 
            "nbconvert_exporter": "python", 
            "version": "3.5.5", 
            "name": "python", 
            "file_extension": ".py", 
            "pygments_lexer": "ipython3", 
            "codemirror_mode": {
                "version": 3, 
                "name": "ipython"
            }
        }
    }, 
    "nbformat": 4
}