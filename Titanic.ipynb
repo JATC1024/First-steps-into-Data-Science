{
  "nbformat": 4,
  "nbformat_minor": 0,
  "metadata": {
    "colab": {
      "name": "Titanic.ipynb",
      "version": "0.3.2",
      "provenance": [],
      "collapsed_sections": [],
      "toc_visible": true,
      "include_colab_link": true
    },
    "kernelspec": {
      "name": "python3",
      "display_name": "Python 3"
    }
  },
  "cells": [
    {
      "cell_type": "markdown",
      "metadata": {
        "id": "view-in-github",
        "colab_type": "text"
      },
      "source": [
        "<a href=\"https://colab.research.google.com/github/JATC1024/First-steps-into-Data-Science/blob/master/Titanic.ipynb\" target=\"_parent\"><img src=\"https://colab.research.google.com/assets/colab-badge.svg\" alt=\"Open In Colab\"/></a>"
      ]
    },
    {
      "metadata": {
        "id": "e-eNjYJvPJJa",
        "colab_type": "text"
      },
      "cell_type": "markdown",
      "source": [
        "# An attempt to the Titanic: Machine Learning from disaster contest"
      ]
    },
    {
      "metadata": {
        "id": "DQGbC9hvPmGz",
        "colab_type": "text"
      },
      "cell_type": "markdown",
      "source": [
        "## The problem:\n",
        "Given a dataset of some passengers that boarded on the Titanic, predict whether they survivied the accident or not."
      ]
    },
    {
      "metadata": {
        "id": "WbnWsbbaQJjS",
        "colab_type": "text"
      },
      "cell_type": "markdown",
      "source": [
        "## The dataset:\n",
        "The dataset can be achieved on Kaggle: [dataset](https://www.kaggle.com/c/titanic/data).<br>\n",
        "It contains some features which are briefly described:\n",
        "- Survival: whether the passenger survived or not (0 = No, 1 = Yes).\n",
        "- Pclass: passenger's ticket class\t(1 = 1st, 2 = 2nd, 3 = 3rd).\n",
        "- Sex: passenger gender.\n",
        "- Age: passenger age in years.\n",
        "- Sibsp:\tthe total number of siblings and spouses that boarded on the Titanic.\n",
        "- Parch: the total number of parents and children that boarded on the Titanic.\n",
        "- Ticket:\tpassenger ticket number.\n",
        "- Fare:\tpassenger fare.\n",
        "- Cabin: passenger\tcabin number.\n",
        "- Embarked:\tport of embarkation (C = Cherbourg, Q = Queenstown, S = Southampton).\n",
        "\n"
      ]
    },
    {
      "metadata": {
        "id": "hSjeOUOXSXqF",
        "colab_type": "text"
      },
      "cell_type": "markdown",
      "source": [
        "## Workflow:\n",
        "We will work through the following steps:\n",
        "1. Preprocess the data.\n",
        "> Take a brief look at the data. <br>\n",
        "> Visualize the data to observe the distributions. <br>\n",
        "> Investigate on each individual feature. <br>\n",
        "> Check for correlations between the features.\n",
        "2. Create a  model and see how it perfomrs.\n",
        "> Linear Regression. <br>\n",
        "> Logistic Classifier.<br>\n",
        "> Random Forest. <br>\n",
        "> XGBoost <br>\n",
        "3. Tuning the hyperparameters to get the best model."
      ]
    },
    {
      "metadata": {
        "id": "YHKe2UvMV5jn",
        "colab_type": "text"
      },
      "cell_type": "markdown",
      "source": [
        "## Preprocess the data:\n",
        "In this step, we will convert our data into a structure that fits the models."
      ]
    },
    {
      "metadata": {
        "id": "UitjaJm5XroN",
        "colab_type": "code",
        "colab": {}
      },
      "cell_type": "code",
      "source": [
        "#@title Import libraries:\n",
        "import pandas as pd\n",
        "import numpy as np\n",
        "import seaborn as sns\n",
        "import matplotlib as mlp\n",
        "from matplotlib import pyplot as plt"
      ],
      "execution_count": 0,
      "outputs": []
    },
    {
      "metadata": {
        "id": "NudH9LEpYYOn",
        "colab_type": "text"
      },
      "cell_type": "markdown",
      "source": [
        "### Load the data:"
      ]
    },
    {
      "metadata": {
        "id": "ywRt8Z8JW43u",
        "colab_type": "code",
        "colab": {}
      },
      "cell_type": "code",
      "source": [
        "train_data = pd.read_csv('sample_data/train.csv', sep = ',')\n",
        "test_data = pd.read_csv('sample_data/test.csv', sep = ',')"
      ],
      "execution_count": 0,
      "outputs": []
    },
    {
      "metadata": {
        "id": "xSjxGUFSRCaQ",
        "colab_type": "code",
        "colab": {}
      },
      "cell_type": "code",
      "source": [
        "# Make a combination of the train and test data so that we can convert them at the same time\n",
        "combined_data = train_data.append(test_data)"
      ],
      "execution_count": 0,
      "outputs": []
    },
    {
      "metadata": {
        "id": "3UY-PbQvQkc4",
        "colab_type": "text"
      },
      "cell_type": "markdown",
      "source": [
        "### Take a look at the data:"
      ]
    },
    {
      "metadata": {
        "id": "Yvjmd8yHQjge",
        "colab_type": "code",
        "colab": {
          "base_uri": "https://localhost:8080/",
          "height": 289
        },
        "outputId": "864c41e2-2f46-4237-fe6a-116f6d93e366"
      },
      "cell_type": "code",
      "source": [
        "combined_data.tail()"
      ],
      "execution_count": 4,
      "outputs": [
        {
          "output_type": "execute_result",
          "data": {
            "text/html": [
              "<div>\n",
              "<style scoped>\n",
              "    .dataframe tbody tr th:only-of-type {\n",
              "        vertical-align: middle;\n",
              "    }\n",
              "\n",
              "    .dataframe tbody tr th {\n",
              "        vertical-align: top;\n",
              "    }\n",
              "\n",
              "    .dataframe thead th {\n",
              "        text-align: right;\n",
              "    }\n",
              "</style>\n",
              "<table border=\"1\" class=\"dataframe\">\n",
              "  <thead>\n",
              "    <tr style=\"text-align: right;\">\n",
              "      <th></th>\n",
              "      <th>Age</th>\n",
              "      <th>Cabin</th>\n",
              "      <th>Embarked</th>\n",
              "      <th>Fare</th>\n",
              "      <th>Name</th>\n",
              "      <th>Parch</th>\n",
              "      <th>PassengerId</th>\n",
              "      <th>Pclass</th>\n",
              "      <th>Sex</th>\n",
              "      <th>SibSp</th>\n",
              "      <th>Survived</th>\n",
              "      <th>Ticket</th>\n",
              "    </tr>\n",
              "  </thead>\n",
              "  <tbody>\n",
              "    <tr>\n",
              "      <th>413</th>\n",
              "      <td>NaN</td>\n",
              "      <td>NaN</td>\n",
              "      <td>S</td>\n",
              "      <td>8.0500</td>\n",
              "      <td>Spector, Mr. Woolf</td>\n",
              "      <td>0</td>\n",
              "      <td>1305</td>\n",
              "      <td>3</td>\n",
              "      <td>male</td>\n",
              "      <td>0</td>\n",
              "      <td>NaN</td>\n",
              "      <td>A.5. 3236</td>\n",
              "    </tr>\n",
              "    <tr>\n",
              "      <th>414</th>\n",
              "      <td>39.0</td>\n",
              "      <td>C105</td>\n",
              "      <td>C</td>\n",
              "      <td>108.9000</td>\n",
              "      <td>Oliva y Ocana, Dona. Fermina</td>\n",
              "      <td>0</td>\n",
              "      <td>1306</td>\n",
              "      <td>1</td>\n",
              "      <td>female</td>\n",
              "      <td>0</td>\n",
              "      <td>NaN</td>\n",
              "      <td>PC 17758</td>\n",
              "    </tr>\n",
              "    <tr>\n",
              "      <th>415</th>\n",
              "      <td>38.5</td>\n",
              "      <td>NaN</td>\n",
              "      <td>S</td>\n",
              "      <td>7.2500</td>\n",
              "      <td>Saether, Mr. Simon Sivertsen</td>\n",
              "      <td>0</td>\n",
              "      <td>1307</td>\n",
              "      <td>3</td>\n",
              "      <td>male</td>\n",
              "      <td>0</td>\n",
              "      <td>NaN</td>\n",
              "      <td>SOTON/O.Q. 3101262</td>\n",
              "    </tr>\n",
              "    <tr>\n",
              "      <th>416</th>\n",
              "      <td>NaN</td>\n",
              "      <td>NaN</td>\n",
              "      <td>S</td>\n",
              "      <td>8.0500</td>\n",
              "      <td>Ware, Mr. Frederick</td>\n",
              "      <td>0</td>\n",
              "      <td>1308</td>\n",
              "      <td>3</td>\n",
              "      <td>male</td>\n",
              "      <td>0</td>\n",
              "      <td>NaN</td>\n",
              "      <td>359309</td>\n",
              "    </tr>\n",
              "    <tr>\n",
              "      <th>417</th>\n",
              "      <td>NaN</td>\n",
              "      <td>NaN</td>\n",
              "      <td>C</td>\n",
              "      <td>22.3583</td>\n",
              "      <td>Peter, Master. Michael J</td>\n",
              "      <td>1</td>\n",
              "      <td>1309</td>\n",
              "      <td>3</td>\n",
              "      <td>male</td>\n",
              "      <td>1</td>\n",
              "      <td>NaN</td>\n",
              "      <td>2668</td>\n",
              "    </tr>\n",
              "  </tbody>\n",
              "</table>\n",
              "</div>"
            ],
            "text/plain": [
              "      Age Cabin Embarked      Fare                          Name  Parch  \\\n",
              "413   NaN   NaN        S    8.0500            Spector, Mr. Woolf      0   \n",
              "414  39.0  C105        C  108.9000  Oliva y Ocana, Dona. Fermina      0   \n",
              "415  38.5   NaN        S    7.2500  Saether, Mr. Simon Sivertsen      0   \n",
              "416   NaN   NaN        S    8.0500           Ware, Mr. Frederick      0   \n",
              "417   NaN   NaN        C   22.3583      Peter, Master. Michael J      1   \n",
              "\n",
              "     PassengerId  Pclass     Sex  SibSp  Survived              Ticket  \n",
              "413         1305       3    male      0       NaN           A.5. 3236  \n",
              "414         1306       1  female      0       NaN            PC 17758  \n",
              "415         1307       3    male      0       NaN  SOTON/O.Q. 3101262  \n",
              "416         1308       3    male      0       NaN              359309  \n",
              "417         1309       3    male      1       NaN                2668  "
            ]
          },
          "metadata": {
            "tags": []
          },
          "execution_count": 4
        }
      ]
    },
    {
      "metadata": {
        "id": "qpaLFIxsUGev",
        "colab_type": "code",
        "colab": {
          "base_uri": "https://localhost:8080/",
          "height": 459
        },
        "outputId": "f180060f-052b-45f2-ef63-6b0cbcc72074"
      },
      "cell_type": "code",
      "source": [
        "# Check for missing values:\n",
        "missing_values = combined_data.isnull()\n",
        "print('Features with missing values:')\n",
        "for feature in missing_values.columns.values:\n",
        "  if missing_values[feature].any():\n",
        "    print(feature, ':')\n",
        "    print(missing_values[feature].value_counts())\n",
        "    print()"
      ],
      "execution_count": 5,
      "outputs": [
        {
          "output_type": "stream",
          "text": [
            "Features with missing values:\n",
            "Age :\n",
            "False    1046\n",
            "True      263\n",
            "Name: Age, dtype: int64\n",
            "\n",
            "Cabin :\n",
            "True     1014\n",
            "False     295\n",
            "Name: Cabin, dtype: int64\n",
            "\n",
            "Embarked :\n",
            "False    1307\n",
            "True        2\n",
            "Name: Embarked, dtype: int64\n",
            "\n",
            "Fare :\n",
            "False    1308\n",
            "True        1\n",
            "Name: Fare, dtype: int64\n",
            "\n",
            "Survived :\n",
            "False    891\n",
            "True     418\n",
            "Name: Survived, dtype: int64\n",
            "\n"
          ],
          "name": "stdout"
        }
      ]
    },
    {
      "metadata": {
        "id": "H3q1LsSxQ1oV",
        "colab_type": "code",
        "colab": {
          "base_uri": "https://localhost:8080/",
          "height": 238
        },
        "outputId": "4519a6d7-d34f-4abb-8864-72ba53dde695"
      },
      "cell_type": "code",
      "source": [
        "# Check for data types:\n",
        "combined_data.dtypes"
      ],
      "execution_count": 6,
      "outputs": [
        {
          "output_type": "execute_result",
          "data": {
            "text/plain": [
              "Age            float64\n",
              "Cabin           object\n",
              "Embarked        object\n",
              "Fare           float64\n",
              "Name            object\n",
              "Parch            int64\n",
              "PassengerId      int64\n",
              "Pclass           int64\n",
              "Sex             object\n",
              "SibSp            int64\n",
              "Survived       float64\n",
              "Ticket          object\n",
              "dtype: object"
            ]
          },
          "metadata": {
            "tags": []
          },
          "execution_count": 6
        }
      ]
    },
    {
      "metadata": {
        "id": "KqfkpzpBX1GC",
        "colab_type": "text"
      },
      "cell_type": "markdown",
      "source": [
        "So we have 6 **numeric features:** age, fare, parch, passengerid, pclass, sibsp and the other are **categorical features**: cabin, embarked, name, sex, ticket."
      ]
    },
    {
      "metadata": {
        "id": "tlgM3Q3pRvRe",
        "colab_type": "text"
      },
      "cell_type": "markdown",
      "source": [
        "### Visualize the data to observe the distributions. \n",
        "Let's make some plots."
      ]
    },
    {
      "metadata": {
        "id": "ZU42G_75Xs5i",
        "colab_type": "code",
        "colab": {
          "base_uri": "https://localhost:8080/",
          "height": 34
        },
        "outputId": "993e1b35-7efb-4958-8965-24c7db6e2244"
      },
      "cell_type": "code",
      "source": [
        "# Create a list of numeric features:\n",
        "numeric_features = \\\n",
        "  [feature for feature in train_data.columns.values if np.issubdtype(train_data[feature].dtypes, np.number)]\n",
        "numeric_features.remove('Survived')\n",
        "numeric_features"
      ],
      "execution_count": 7,
      "outputs": [
        {
          "output_type": "execute_result",
          "data": {
            "text/plain": [
              "['PassengerId', 'Pclass', 'Age', 'SibSp', 'Parch', 'Fare']"
            ]
          },
          "metadata": {
            "tags": []
          },
          "execution_count": 7
        }
      ]
    },
    {
      "metadata": {
        "id": "KUFafmdHbatA",
        "colab_type": "code",
        "colab": {
          "base_uri": "https://localhost:8080/",
          "height": 432
        },
        "outputId": "6ae75144-a449-40f8-888f-62b33ccd49e5"
      },
      "cell_type": "code",
      "source": [
        "# Creat a histogram for each feature:\n",
        "fig = plt.figure()\n",
        "sns.countplot(x = 'Pclass', hue = 'Survived', data = train_data)\n",
        "\n",
        "for index, value in enumerate(numeric_features):\n",
        "  ax = fig.add_subplot(2, 3, index + 1)\n",
        "  sns.countplot(x = value, hue = 'Survived', data = train_data, ax = ax)\n",
        "  "
      ],
      "execution_count": 9,
      "outputs": [
        {
          "output_type": "stream",
          "text": [
            "/usr/local/lib/python3.6/dist-packages/seaborn/categorical.py:1468: FutureWarning: remove_na is deprecated and is a private function. Do not use.\n",
            "  stat_data = remove_na(group_data[hue_mask])\n"
          ],
          "name": "stderr"
        },
        {
          "output_type": "execute_result",
          "data": {
            "text/plain": [
              "<matplotlib.axes._subplots.AxesSubplot at 0x7f808747d1d0>"
            ]
          },
          "metadata": {
            "tags": []
          },
          "execution_count": 9
        },
        {
          "output_type": "display_data",
          "data": {
            "image/png": "[encoded data removed]",
            "text/plain": [
              "<Figure size 576x396 with 1 Axes>"
            ]
          },
          "metadata": {
            "tags": []
          }
        }
      ]
    },
    {
      "metadata": {
        "id": "-U8891f7ZyIv",
        "colab_type": "code",
        "colab": {
          "base_uri": "https://localhost:8080/",
          "height": 34
        },
        "outputId": "0cef38aa-26bc-42ba-8e2c-f9e8e43b8343"
      },
      "cell_type": "code",
      "source": [
        "# Create a list of categorical features:\n",
        "categorical_features = \\\n",
        "  [feature for feature in train_data.columns.values if not(np.issubdtype(train_data[feature].dtype, np.number))]\n",
        "categorical_features"
      ],
      "execution_count": 50,
      "outputs": [
        {
          "output_type": "execute_result",
          "data": {
            "text/plain": [
              "['Name', 'Sex', 'Ticket', 'Cabin', 'Embarked']"
            ]
          },
          "metadata": {
            "tags": []
          },
          "execution_count": 50
        }
      ]
    },
    {
      "metadata": {
        "id": "BjW9W425aGwF",
        "colab_type": "code",
        "colab": {}
      },
      "cell_type": "code",
      "source": [
        ""
      ],
      "execution_count": 0,
      "outputs": []
    }
  ]
}